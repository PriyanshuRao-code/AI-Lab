{
 "cells": [
  {
   "cell_type": "code",
   "execution_count": 1,
   "id": "6223c3d2-90c1-4a47-a826-ef011488262d",
   "metadata": {},
   "outputs": [],
   "source": [
    "import pandas as pd\n",
    "import numpy as np\n",
    "import matplotlib.pyplot as plt\n",
    "import seaborn as sns\n"
   ]
  },
  {
   "cell_type": "code",
   "execution_count": 3,
   "id": "9ff084b3-d1a3-491f-ace6-9cd5735fb3cb",
   "metadata": {},
   "outputs": [
    {
     "data": {
      "text/html": [
       "<div>\n",
       "<style scoped>\n",
       "    .dataframe tbody tr th:only-of-type {\n",
       "        vertical-align: middle;\n",
       "    }\n",
       "\n",
       "    .dataframe tbody tr th {\n",
       "        vertical-align: top;\n",
       "    }\n",
       "\n",
       "    .dataframe thead th {\n",
       "        text-align: right;\n",
       "    }\n",
       "</style>\n",
       "<table border=\"1\" class=\"dataframe\">\n",
       "  <thead>\n",
       "    <tr style=\"text-align: right;\">\n",
       "      <th></th>\n",
       "      <th>dates</th>\n",
       "      <th>stationid</th>\n",
       "      <th>dispx</th>\n",
       "      <th>dispy</th>\n",
       "      <th>dispz</th>\n",
       "      <th>temperature</th>\n",
       "      <th>humidity</th>\n",
       "      <th>rain</th>\n",
       "    </tr>\n",
       "  </thead>\n",
       "  <tbody>\n",
       "    <tr>\n",
       "      <th>0</th>\n",
       "      <td>08-07-2018</td>\n",
       "      <td>t10</td>\n",
       "      <td>0.000000</td>\n",
       "      <td>0.000000</td>\n",
       "      <td>0.000000</td>\n",
       "      <td>25.46875</td>\n",
       "      <td>82.18750</td>\n",
       "      <td>6.75</td>\n",
       "    </tr>\n",
       "    <tr>\n",
       "      <th>1</th>\n",
       "      <td>09-07-2018</td>\n",
       "      <td>t10</td>\n",
       "      <td>0.000000</td>\n",
       "      <td>0.000000</td>\n",
       "      <td>0.000000</td>\n",
       "      <td>26.19298</td>\n",
       "      <td>83.14912</td>\n",
       "      <td>1761.75</td>\n",
       "    </tr>\n",
       "    <tr>\n",
       "      <th>2</th>\n",
       "      <td>10-07-2018</td>\n",
       "      <td>t10</td>\n",
       "      <td>0.000000</td>\n",
       "      <td>0.000000</td>\n",
       "      <td>0.000000</td>\n",
       "      <td>25.17021</td>\n",
       "      <td>85.34043</td>\n",
       "      <td>652.50</td>\n",
       "    </tr>\n",
       "    <tr>\n",
       "      <th>3</th>\n",
       "      <td>11-07-2018</td>\n",
       "      <td>t10</td>\n",
       "      <td>-0.002835</td>\n",
       "      <td>0.003721</td>\n",
       "      <td>0.004961</td>\n",
       "      <td>24.29851</td>\n",
       "      <td>87.68657</td>\n",
       "      <td>963.00</td>\n",
       "    </tr>\n",
       "    <tr>\n",
       "      <th>4</th>\n",
       "      <td>12-07-2018</td>\n",
       "      <td>t10</td>\n",
       "      <td>-0.002835</td>\n",
       "      <td>0.003721</td>\n",
       "      <td>0.004961</td>\n",
       "      <td>24.06923</td>\n",
       "      <td>87.64615</td>\n",
       "      <td>254.25</td>\n",
       "    </tr>\n",
       "    <tr>\n",
       "      <th>...</th>\n",
       "      <td>...</td>\n",
       "      <td>...</td>\n",
       "      <td>...</td>\n",
       "      <td>...</td>\n",
       "      <td>...</td>\n",
       "      <td>...</td>\n",
       "      <td>...</td>\n",
       "      <td>...</td>\n",
       "    </tr>\n",
       "    <tr>\n",
       "      <th>940</th>\n",
       "      <td>21-11-2018</td>\n",
       "      <td>t9</td>\n",
       "      <td>-1.585004</td>\n",
       "      <td>2.894999</td>\n",
       "      <td>2.732073</td>\n",
       "      <td>16.65926</td>\n",
       "      <td>58.69630</td>\n",
       "      <td>73577.25</td>\n",
       "    </tr>\n",
       "    <tr>\n",
       "      <th>941</th>\n",
       "      <td>22-11-2018</td>\n",
       "      <td>t9</td>\n",
       "      <td>-1.585004</td>\n",
       "      <td>2.894999</td>\n",
       "      <td>2.732073</td>\n",
       "      <td>15.52482</td>\n",
       "      <td>63.16312</td>\n",
       "      <td>65301.75</td>\n",
       "    </tr>\n",
       "    <tr>\n",
       "      <th>942</th>\n",
       "      <td>23-11-2018</td>\n",
       "      <td>t9</td>\n",
       "      <td>-1.585004</td>\n",
       "      <td>2.894999</td>\n",
       "      <td>2.732073</td>\n",
       "      <td>15.81560</td>\n",
       "      <td>59.21277</td>\n",
       "      <td>73534.50</td>\n",
       "    </tr>\n",
       "    <tr>\n",
       "      <th>943</th>\n",
       "      <td>24-11-2018</td>\n",
       "      <td>t9</td>\n",
       "      <td>-1.585004</td>\n",
       "      <td>2.894999</td>\n",
       "      <td>2.732073</td>\n",
       "      <td>16.58571</td>\n",
       "      <td>54.63571</td>\n",
       "      <td>72283.50</td>\n",
       "    </tr>\n",
       "    <tr>\n",
       "      <th>944</th>\n",
       "      <td>25-11-2018</td>\n",
       "      <td>t9</td>\n",
       "      <td>-1.585004</td>\n",
       "      <td>2.894999</td>\n",
       "      <td>2.732073</td>\n",
       "      <td>17.90000</td>\n",
       "      <td>49.41000</td>\n",
       "      <td>71799.75</td>\n",
       "    </tr>\n",
       "  </tbody>\n",
       "</table>\n",
       "<p>945 rows × 8 columns</p>\n",
       "</div>"
      ],
      "text/plain": [
       "          dates stationid     dispx     dispy     dispz  temperature  \\\n",
       "0    08-07-2018       t10  0.000000  0.000000  0.000000     25.46875   \n",
       "1    09-07-2018       t10  0.000000  0.000000  0.000000     26.19298   \n",
       "2    10-07-2018       t10  0.000000  0.000000  0.000000     25.17021   \n",
       "3    11-07-2018       t10 -0.002835  0.003721  0.004961     24.29851   \n",
       "4    12-07-2018       t10 -0.002835  0.003721  0.004961     24.06923   \n",
       "..          ...       ...       ...       ...       ...          ...   \n",
       "940  21-11-2018        t9 -1.585004  2.894999  2.732073     16.65926   \n",
       "941  22-11-2018        t9 -1.585004  2.894999  2.732073     15.52482   \n",
       "942  23-11-2018        t9 -1.585004  2.894999  2.732073     15.81560   \n",
       "943  24-11-2018        t9 -1.585004  2.894999  2.732073     16.58571   \n",
       "944  25-11-2018        t9 -1.585004  2.894999  2.732073     17.90000   \n",
       "\n",
       "     humidity      rain  \n",
       "0    82.18750      6.75  \n",
       "1    83.14912   1761.75  \n",
       "2    85.34043    652.50  \n",
       "3    87.68657    963.00  \n",
       "4    87.64615    254.25  \n",
       "..        ...       ...  \n",
       "940  58.69630  73577.25  \n",
       "941  63.16312  65301.75  \n",
       "942  59.21277  73534.50  \n",
       "943  54.63571  72283.50  \n",
       "944  49.41000  71799.75  \n",
       "\n",
       "[945 rows x 8 columns]"
      ]
     },
     "execution_count": 3,
     "metadata": {},
     "output_type": "execute_result"
    }
   ],
   "source": [
    "df_org= pd.read_csv('landslide_data2_original.csv')\n",
    "df_org"
   ]
  },
  {
   "cell_type": "code",
   "execution_count": 5,
   "id": "4b7e2e4a-aad6-4069-9c26-97e9231c6b62",
   "metadata": {},
   "outputs": [
    {
     "data": {
      "text/html": [
       "<div>\n",
       "<style scoped>\n",
       "    .dataframe tbody tr th:only-of-type {\n",
       "        vertical-align: middle;\n",
       "    }\n",
       "\n",
       "    .dataframe tbody tr th {\n",
       "        vertical-align: top;\n",
       "    }\n",
       "\n",
       "    .dataframe thead th {\n",
       "        text-align: right;\n",
       "    }\n",
       "</style>\n",
       "<table border=\"1\" class=\"dataframe\">\n",
       "  <thead>\n",
       "    <tr style=\"text-align: right;\">\n",
       "      <th></th>\n",
       "      <th>dates</th>\n",
       "      <th>stationid</th>\n",
       "      <th>dispx</th>\n",
       "      <th>dispy</th>\n",
       "      <th>dispz</th>\n",
       "      <th>temperature</th>\n",
       "      <th>humidity</th>\n",
       "      <th>rain</th>\n",
       "    </tr>\n",
       "  </thead>\n",
       "  <tbody>\n",
       "    <tr>\n",
       "      <th>0</th>\n",
       "      <td>08-07-2018</td>\n",
       "      <td>t10</td>\n",
       "      <td>0.000000</td>\n",
       "      <td>0.000000</td>\n",
       "      <td>0.000000</td>\n",
       "      <td>25.46875</td>\n",
       "      <td>82.18750</td>\n",
       "      <td>6.75</td>\n",
       "    </tr>\n",
       "    <tr>\n",
       "      <th>1</th>\n",
       "      <td>09-07-2018</td>\n",
       "      <td>t10</td>\n",
       "      <td>0.000000</td>\n",
       "      <td>0.000000</td>\n",
       "      <td>0.000000</td>\n",
       "      <td>26.19298</td>\n",
       "      <td>83.14912</td>\n",
       "      <td>1761.75</td>\n",
       "    </tr>\n",
       "    <tr>\n",
       "      <th>2</th>\n",
       "      <td>10-07-2018</td>\n",
       "      <td>t10</td>\n",
       "      <td>0.000000</td>\n",
       "      <td>0.000000</td>\n",
       "      <td>0.000000</td>\n",
       "      <td>25.17021</td>\n",
       "      <td>85.34043</td>\n",
       "      <td>652.50</td>\n",
       "    </tr>\n",
       "    <tr>\n",
       "      <th>3</th>\n",
       "      <td>11-07-2018</td>\n",
       "      <td>t10</td>\n",
       "      <td>-0.002835</td>\n",
       "      <td>0.003721</td>\n",
       "      <td>0.004961</td>\n",
       "      <td>NaN</td>\n",
       "      <td>87.68657</td>\n",
       "      <td>963.00</td>\n",
       "    </tr>\n",
       "    <tr>\n",
       "      <th>4</th>\n",
       "      <td>12-07-2018</td>\n",
       "      <td>t10</td>\n",
       "      <td>-0.002835</td>\n",
       "      <td>0.003721</td>\n",
       "      <td>0.004961</td>\n",
       "      <td>NaN</td>\n",
       "      <td>87.64615</td>\n",
       "      <td>254.25</td>\n",
       "    </tr>\n",
       "    <tr>\n",
       "      <th>...</th>\n",
       "      <td>...</td>\n",
       "      <td>...</td>\n",
       "      <td>...</td>\n",
       "      <td>...</td>\n",
       "      <td>...</td>\n",
       "      <td>...</td>\n",
       "      <td>...</td>\n",
       "      <td>...</td>\n",
       "    </tr>\n",
       "    <tr>\n",
       "      <th>940</th>\n",
       "      <td>21-11-2018</td>\n",
       "      <td>t9</td>\n",
       "      <td>NaN</td>\n",
       "      <td>NaN</td>\n",
       "      <td>NaN</td>\n",
       "      <td>NaN</td>\n",
       "      <td>NaN</td>\n",
       "      <td>NaN</td>\n",
       "    </tr>\n",
       "    <tr>\n",
       "      <th>941</th>\n",
       "      <td>22-11-2018</td>\n",
       "      <td>t9</td>\n",
       "      <td>-1.585004</td>\n",
       "      <td>2.894999</td>\n",
       "      <td>2.732073</td>\n",
       "      <td>15.52482</td>\n",
       "      <td>63.16312</td>\n",
       "      <td>65301.75</td>\n",
       "    </tr>\n",
       "    <tr>\n",
       "      <th>942</th>\n",
       "      <td>23-11-2018</td>\n",
       "      <td>t9</td>\n",
       "      <td>-1.585004</td>\n",
       "      <td>2.894999</td>\n",
       "      <td>2.732073</td>\n",
       "      <td>15.81560</td>\n",
       "      <td>59.21277</td>\n",
       "      <td>73534.50</td>\n",
       "    </tr>\n",
       "    <tr>\n",
       "      <th>943</th>\n",
       "      <td>24-11-2018</td>\n",
       "      <td>t9</td>\n",
       "      <td>-1.585004</td>\n",
       "      <td>2.894999</td>\n",
       "      <td>2.732073</td>\n",
       "      <td>16.58571</td>\n",
       "      <td>54.63571</td>\n",
       "      <td>72283.50</td>\n",
       "    </tr>\n",
       "    <tr>\n",
       "      <th>944</th>\n",
       "      <td>25-11-2018</td>\n",
       "      <td>t9</td>\n",
       "      <td>-1.585004</td>\n",
       "      <td>2.894999</td>\n",
       "      <td>2.732073</td>\n",
       "      <td>17.90000</td>\n",
       "      <td>49.41000</td>\n",
       "      <td>71799.75</td>\n",
       "    </tr>\n",
       "  </tbody>\n",
       "</table>\n",
       "<p>945 rows × 8 columns</p>\n",
       "</div>"
      ],
      "text/plain": [
       "          dates stationid     dispx     dispy     dispz  temperature  \\\n",
       "0    08-07-2018       t10  0.000000  0.000000  0.000000     25.46875   \n",
       "1    09-07-2018       t10  0.000000  0.000000  0.000000     26.19298   \n",
       "2    10-07-2018       t10  0.000000  0.000000  0.000000     25.17021   \n",
       "3    11-07-2018       t10 -0.002835  0.003721  0.004961          NaN   \n",
       "4    12-07-2018       t10 -0.002835  0.003721  0.004961          NaN   \n",
       "..          ...       ...       ...       ...       ...          ...   \n",
       "940  21-11-2018        t9       NaN       NaN       NaN          NaN   \n",
       "941  22-11-2018        t9 -1.585004  2.894999  2.732073     15.52482   \n",
       "942  23-11-2018        t9 -1.585004  2.894999  2.732073     15.81560   \n",
       "943  24-11-2018        t9 -1.585004  2.894999  2.732073     16.58571   \n",
       "944  25-11-2018        t9 -1.585004  2.894999  2.732073     17.90000   \n",
       "\n",
       "     humidity      rain  \n",
       "0    82.18750      6.75  \n",
       "1    83.14912   1761.75  \n",
       "2    85.34043    652.50  \n",
       "3    87.68657    963.00  \n",
       "4    87.64615    254.25  \n",
       "..        ...       ...  \n",
       "940       NaN       NaN  \n",
       "941  63.16312  65301.75  \n",
       "942  59.21277  73534.50  \n",
       "943  54.63571  72283.50  \n",
       "944  49.41000  71799.75  \n",
       "\n",
       "[945 rows x 8 columns]"
      ]
     },
     "execution_count": 5,
     "metadata": {},
     "output_type": "execute_result"
    }
   ],
   "source": [
    "df_miss = pd.read_csv('landslide_data2_miss.csv')\n",
    "df_miss"
   ]
  },
  {
   "cell_type": "code",
   "execution_count": null,
   "id": "ccc374bb-4710-4938-ad80-d534084e6cc4",
   "metadata": {},
   "outputs": [],
   "source": []
  },
  {
   "cell_type": "code",
   "execution_count": 8,
   "id": "d96c3a2e-01f0-4c4d-8a2c-d93b6e695cdf",
   "metadata": {},
   "outputs": [
    {
     "name": "stdout",
     "output_type": "stream",
     "text": [
      "Updated number of missing values in each attribute:\n",
      "dates           0\n",
      "stationid      22\n",
      "dispx          51\n",
      "dispy          51\n",
      "dispz          53\n",
      "temperature    47\n",
      "humidity       48\n",
      "rain           16\n",
      "dtype: int64\n",
      "\n",
      "Updated total number of missing values in the file: 288\n",
      "\n",
      "Modified dataset saved as 'landslide_data2_miss-updated.csv'.\n"
     ]
    },
    {
     "name": "stderr",
     "output_type": "stream",
     "text": [
      "/tmp/ipykernel_8750/2734618037.py:2: FutureWarning: Setting an item of incompatible dtype is deprecated and will raise an error in a future version of pandas. Value 'na' has dtype incompatible with float64, please explicitly cast to a compatible dtype first.\n",
      "  df_miss.loc[temperature_valid_indices, 'temperature'] = \"na\"\n"
     ]
    }
   ],
   "source": [
    "temperature_valid_indices = df_miss['temperature'].dropna().index[:2]\n",
    "df_miss.loc[temperature_valid_indices, 'temperature'] = \"na\"\n",
    "\n",
    " \n",
    "df_miss.replace(\"na\", pd.NA, inplace=True)\n",
    " \n",
    "missing_values_per_column = df_miss.isnull().sum()\n",
    "total_missing_values = df_miss.isnull().sum().sum()\n",
    "\n",
    "# Display the updated missing values\n",
    "print(\"Updated number of missing values in each attribute:\")\n",
    "print(missing_values_per_column)\n",
    "\n",
    "print(\"\\nUpdated total number of missing values in the file:\", total_missing_values)\n",
    "\n",
    "# Save the modified file for reference\n",
    "df_miss.to_csv('landslide_data2_miss-updated.csv', index=False)\n",
    "print(\"\\nModified dataset saved as 'landslide_data2_miss-updated.csv'.\")"
   ]
  },
  {
   "cell_type": "code",
   "execution_count": null,
   "id": "20c57878-a9d3-406f-a706-283e0d14608b",
   "metadata": {},
   "outputs": [],
   "source": []
  },
  {
   "cell_type": "code",
   "execution_count": 11,
   "id": "87ef26c7-337e-49af-b60b-1ccc2891d9cb",
   "metadata": {},
   "outputs": [
    {
     "data": {
      "text/plain": [
       "dates           0\n",
       "stationid      22\n",
       "dispx          51\n",
       "dispy          51\n",
       "dispz          53\n",
       "temperature    47\n",
       "humidity       48\n",
       "rain           16\n",
       "dtype: int64"
      ]
     },
     "execution_count": 11,
     "metadata": {},
     "output_type": "execute_result"
    }
   ],
   "source": [
    "df_miss.isnull().sum()"
   ]
  },
  {
   "cell_type": "code",
   "execution_count": 13,
   "id": "f07ce0af-29b1-49f3-847a-254a22952820",
   "metadata": {},
   "outputs": [
    {
     "name": "stdout",
     "output_type": "stream",
     "text": [
      "<class 'pandas.core.frame.DataFrame'>\n",
      "RangeIndex: 945 entries, 0 to 944\n",
      "Data columns (total 8 columns):\n",
      " #   Column       Non-Null Count  Dtype  \n",
      "---  ------       --------------  -----  \n",
      " 0   dates        945 non-null    object \n",
      " 1   stationid    923 non-null    object \n",
      " 2   dispx        894 non-null    float64\n",
      " 3   dispy        894 non-null    float64\n",
      " 4   dispz        892 non-null    float64\n",
      " 5   temperature  898 non-null    object \n",
      " 6   humidity     897 non-null    float64\n",
      " 7   rain         929 non-null    float64\n",
      "dtypes: float64(5), object(3)\n",
      "memory usage: 59.2+ KB\n"
     ]
    }
   ],
   "source": [
    "df_miss.info()"
   ]
  },
  {
   "cell_type": "code",
   "execution_count": 15,
   "id": "7c7d80c4-0147-4d39-bad6-f5675b0523a8",
   "metadata": {},
   "outputs": [
    {
     "name": "stdout",
     "output_type": "stream",
     "text": [
      "Updated number of missing values in each attribute:\n",
      "dates           0\n",
      "stationid      22\n",
      "dispx          51\n",
      "dispy          53\n",
      "dispz          53\n",
      "temperature    49\n",
      "humidity       48\n",
      "rain           16\n",
      "dtype: int64\n",
      "\n",
      "Updated total number of missing values in the file: 292\n",
      "\n",
      "Modified dataset saved as 'landslide_data2_miss-COPY.csv'.\n"
     ]
    }
   ],
   "source": [
    "df_miss.loc[df_miss['dispy'].first_valid_index(), 'dispy'] = None\n",
    "df_miss.loc[df_miss['dispy'].last_valid_index(), 'dispy'] = None\n",
    "\n",
    "\n",
    "temperature_valid_indices = df_miss['temperature'].dropna().index[:2]\n",
    "df_miss.loc[temperature_valid_indices, 'temperature'] = \"N/A\"\n",
    "\n",
    "\n",
    "df_miss.replace(\"N/A\", pd.NA, inplace=True)\n",
    "\n",
    "\n",
    "missing_values_per_column = df_miss.isnull().sum()\n",
    "total_missing_values = df_miss.isnull().sum().sum()\n",
    "\n",
    "\n",
    "print(\"Updated number of missing values in each attribute:\")\n",
    "print(missing_values_per_column)\n",
    "\n",
    "print(\"\\nUpdated total number of missing values in the file:\", total_missing_values)\n",
    "\n",
    "\n",
    "df_miss.to_csv('landslide_data2_miss-COPY.csv', index=False)\n",
    "print(\"\\nModified dataset saved as 'landslide_data2_miss-COPY.csv'.\")"
   ]
  },
  {
   "cell_type": "code",
   "execution_count": 17,
   "id": "f014abf9-ae45-4f70-bd47-b7b4a9ef64e3",
   "metadata": {},
   "outputs": [
    {
     "name": "stdout",
     "output_type": "stream",
     "text": [
      "Number of tuples with specific missing values:\n",
      "0    793\n",
      "1     91\n",
      "2     26\n",
      "3     10\n",
      "4     10\n",
      "5     11\n",
      "6      4\n",
      "Name: count, dtype: int64\n"
     ]
    },
    {
     "data": {
      "image/png": "[encoded data removed]",
      "text/plain": [
       "<Figure size 1000x600 with 1 Axes>"
      ]
     },
     "metadata": {},
     "output_type": "display_data"
    },
    {
     "name": "stdout",
     "output_type": "stream",
     "text": [
      "Number of tuples with >=50% of attributes missing: 25\n",
      "After dropping tuples with >=50% missing values, the dataset has 920 rows.\n",
      "After dropping tuples with missing 'quality' attribute, the dataset has 916 rows.\n",
      "Cleaned datasets saved as 'landslide_data2_cleaned.csv' and 'landslide_data2_target_cleaned.csv'.\n"
     ]
    }
   ],
   "source": [
    "\n",
    "missing_counts = df_miss.isnull().sum(axis=1)\n",
    "\n",
    "\n",
    "missing_value_distribution = missing_counts.value_counts().sort_index()\n",
    "\n",
    "print(\"Number of tuples with specific missing values:\")\n",
    "print(missing_value_distribution)\n",
    "\n",
    "\n",
    "plt.figure(figsize=(10, 6))\n",
    "plt.bar(missing_value_distribution.index, missing_value_distribution.values, color='skyblue')\n",
    "plt.xlabel('Number of Missing Values')\n",
    "plt.ylabel('Number of Tuples')\n",
    "plt.title('Number of Missing Values vs. Number of Tuples')\n",
    "plt.xticks(range(missing_value_distribution.index.min(), missing_value_distribution.index.max() + 1))\n",
    "plt.grid(axis='y', linestyle='--', alpha=0.7)\n",
    "plt.show()\n",
    "\n",
    "\n",
    "threshold = len(df_miss.columns) / 2\n",
    "\n",
    "tuples_with_high_missing = (missing_counts >= threshold).sum()\n",
    "print(f\"Number of tuples with >=50% of attributes missing: {tuples_with_high_missing}\")\n",
    "\n",
    "\n",
    "df_cleaned = df_miss[missing_counts < threshold]\n",
    "print(f\"After dropping tuples with >=50% missing values, the dataset has {len(df_cleaned)} rows.\")\n",
    "\n",
    "\n",
    "df_target_cleaned = df_cleaned.dropna(subset=['rain'])\n",
    "print(f\"After dropping tuples with missing 'quality' attribute, the dataset has {len(df_target_cleaned)} rows.\")\n",
    "\n",
    "\n",
    "df_cleaned.to_csv('landslide_data2_cleaned.csv', index=False)\n",
    "df_target_cleaned.to_csv('landslide_data2_cleaned.csv', index=False)\n",
    "print(\"Cleaned datasets saved as 'landslide_data2_cleaned.csv' and 'landslide_data2_target_cleaned.csv'.\")\n"
   ]
  },
  {
   "cell_type": "code",
   "execution_count": 19,
   "id": "4c65bed9-3a1a-48f5-ab09-e9cc6f2b23c3",
   "metadata": {},
   "outputs": [
    {
     "name": "stdout",
     "output_type": "stream",
     "text": [
      "Number of missing values in each attribute after deletion of tuples:\n",
      "dates           0\n",
      "stationid      22\n",
      "dispx          32\n",
      "dispy          30\n",
      "dispz          28\n",
      "temperature    23\n",
      "humidity       29\n",
      "rain            0\n",
      "dtype: int64\n",
      "Total number of missing values in the file after deletion of tuples: 164\n"
     ]
    }
   ],
   "source": [
    "missing_values_per_attribute = df_target_cleaned.isnull().sum()\n",
    "print(\"Number of missing values in each attribute after deletion of tuples:\")\n",
    "print(missing_values_per_attribute)\n",
    "\n",
    "\n",
    "total_missing_values = missing_values_per_attribute.sum()\n",
    "print(f\"Total number of missing values in the file after deletion of tuples: {total_missing_values}\")\n"
   ]
  },
  {
   "cell_type": "code",
   "execution_count": 21,
   "id": "cbdbe75b-71a5-4fe4-8e41-37d321bd18b3",
   "metadata": {},
   "outputs": [
    {
     "ename": "TypeError",
     "evalue": "Cannot convert [['08-07-2018' '09-07-2018' '10-07-2018' ... '23-11-2018' '24-11-2018'\n  '25-11-2018']\n ['t10' 't10' 't10' ... 't9' 't9' 't9']] to numeric",
     "output_type": "error",
     "traceback": [
      "\u001b[0;31m---------------------------------------------------------------------------\u001b[0m",
      "\u001b[0;31mTypeError\u001b[0m                                 Traceback (most recent call last)",
      "Cell \u001b[0;32mIn[21], line 1\u001b[0m\n\u001b[0;32m----> 1\u001b[0m df_filled_median \u001b[38;5;241m=\u001b[39m df_target_cleaned\u001b[38;5;241m.\u001b[39mfillna(df_target_cleaned\u001b[38;5;241m.\u001b[39mmedian())\n\u001b[1;32m      3\u001b[0m \u001b[38;5;28mprint\u001b[39m(\u001b[38;5;124m\"\u001b[39m\u001b[38;5;124mMissing values replaced by the median of their respective attributes.\u001b[39m\u001b[38;5;124m\"\u001b[39m)\n\u001b[1;32m      4\u001b[0m \u001b[38;5;28mprint\u001b[39m(df_filled_median\u001b[38;5;241m.\u001b[39mhead())  \u001b[38;5;66;03m# Display the first few rows of the updated dataset\u001b[39;00m\n",
      "File \u001b[0;32m~/anaconda3/lib/python3.12/site-packages/pandas/core/frame.py:11706\u001b[0m, in \u001b[0;36mDataFrame.median\u001b[0;34m(self, axis, skipna, numeric_only, **kwargs)\u001b[0m\n\u001b[1;32m  11698\u001b[0m \u001b[38;5;129m@doc\u001b[39m(make_doc(\u001b[38;5;124m\"\u001b[39m\u001b[38;5;124mmedian\u001b[39m\u001b[38;5;124m\"\u001b[39m, ndim\u001b[38;5;241m=\u001b[39m\u001b[38;5;241m2\u001b[39m))\n\u001b[1;32m  11699\u001b[0m \u001b[38;5;28;01mdef\u001b[39;00m \u001b[38;5;21mmedian\u001b[39m(\n\u001b[1;32m  11700\u001b[0m     \u001b[38;5;28mself\u001b[39m,\n\u001b[0;32m   (...)\u001b[0m\n\u001b[1;32m  11704\u001b[0m     \u001b[38;5;241m*\u001b[39m\u001b[38;5;241m*\u001b[39mkwargs,\n\u001b[1;32m  11705\u001b[0m ):\n\u001b[0;32m> 11706\u001b[0m     result \u001b[38;5;241m=\u001b[39m \u001b[38;5;28msuper\u001b[39m()\u001b[38;5;241m.\u001b[39mmedian(axis, skipna, numeric_only, \u001b[38;5;241m*\u001b[39m\u001b[38;5;241m*\u001b[39mkwargs)\n\u001b[1;32m  11707\u001b[0m     \u001b[38;5;28;01mif\u001b[39;00m \u001b[38;5;28misinstance\u001b[39m(result, Series):\n\u001b[1;32m  11708\u001b[0m         result \u001b[38;5;241m=\u001b[39m result\u001b[38;5;241m.\u001b[39m__finalize__(\u001b[38;5;28mself\u001b[39m, method\u001b[38;5;241m=\u001b[39m\u001b[38;5;124m\"\u001b[39m\u001b[38;5;124mmedian\u001b[39m\u001b[38;5;124m\"\u001b[39m)\n",
      "File \u001b[0;32m~/anaconda3/lib/python3.12/site-packages/pandas/core/generic.py:12431\u001b[0m, in \u001b[0;36mNDFrame.median\u001b[0;34m(self, axis, skipna, numeric_only, **kwargs)\u001b[0m\n\u001b[1;32m  12424\u001b[0m \u001b[38;5;28;01mdef\u001b[39;00m \u001b[38;5;21mmedian\u001b[39m(\n\u001b[1;32m  12425\u001b[0m     \u001b[38;5;28mself\u001b[39m,\n\u001b[1;32m  12426\u001b[0m     axis: Axis \u001b[38;5;241m|\u001b[39m \u001b[38;5;28;01mNone\u001b[39;00m \u001b[38;5;241m=\u001b[39m \u001b[38;5;241m0\u001b[39m,\n\u001b[0;32m   (...)\u001b[0m\n\u001b[1;32m  12429\u001b[0m     \u001b[38;5;241m*\u001b[39m\u001b[38;5;241m*\u001b[39mkwargs,\n\u001b[1;32m  12430\u001b[0m ) \u001b[38;5;241m-\u001b[39m\u001b[38;5;241m>\u001b[39m Series \u001b[38;5;241m|\u001b[39m \u001b[38;5;28mfloat\u001b[39m:\n\u001b[0;32m> 12431\u001b[0m     \u001b[38;5;28;01mreturn\u001b[39;00m \u001b[38;5;28mself\u001b[39m\u001b[38;5;241m.\u001b[39m_stat_function(\n\u001b[1;32m  12432\u001b[0m         \u001b[38;5;124m\"\u001b[39m\u001b[38;5;124mmedian\u001b[39m\u001b[38;5;124m\"\u001b[39m, nanops\u001b[38;5;241m.\u001b[39mnanmedian, axis, skipna, numeric_only, \u001b[38;5;241m*\u001b[39m\u001b[38;5;241m*\u001b[39mkwargs\n\u001b[1;32m  12433\u001b[0m     )\n",
      "File \u001b[0;32m~/anaconda3/lib/python3.12/site-packages/pandas/core/generic.py:12377\u001b[0m, in \u001b[0;36mNDFrame._stat_function\u001b[0;34m(self, name, func, axis, skipna, numeric_only, **kwargs)\u001b[0m\n\u001b[1;32m  12373\u001b[0m nv\u001b[38;5;241m.\u001b[39mvalidate_func(name, (), kwargs)\n\u001b[1;32m  12375\u001b[0m validate_bool_kwarg(skipna, \u001b[38;5;124m\"\u001b[39m\u001b[38;5;124mskipna\u001b[39m\u001b[38;5;124m\"\u001b[39m, none_allowed\u001b[38;5;241m=\u001b[39m\u001b[38;5;28;01mFalse\u001b[39;00m)\n\u001b[0;32m> 12377\u001b[0m \u001b[38;5;28;01mreturn\u001b[39;00m \u001b[38;5;28mself\u001b[39m\u001b[38;5;241m.\u001b[39m_reduce(\n\u001b[1;32m  12378\u001b[0m     func, name\u001b[38;5;241m=\u001b[39mname, axis\u001b[38;5;241m=\u001b[39maxis, skipna\u001b[38;5;241m=\u001b[39mskipna, numeric_only\u001b[38;5;241m=\u001b[39mnumeric_only\n\u001b[1;32m  12379\u001b[0m )\n",
      "File \u001b[0;32m~/anaconda3/lib/python3.12/site-packages/pandas/core/frame.py:11562\u001b[0m, in \u001b[0;36mDataFrame._reduce\u001b[0;34m(self, op, name, axis, skipna, numeric_only, filter_type, **kwds)\u001b[0m\n\u001b[1;32m  11558\u001b[0m     df \u001b[38;5;241m=\u001b[39m df\u001b[38;5;241m.\u001b[39mT\n\u001b[1;32m  11560\u001b[0m \u001b[38;5;66;03m# After possibly _get_data and transposing, we are now in the\u001b[39;00m\n\u001b[1;32m  11561\u001b[0m \u001b[38;5;66;03m#  simple case where we can use BlockManager.reduce\u001b[39;00m\n\u001b[0;32m> 11562\u001b[0m res \u001b[38;5;241m=\u001b[39m df\u001b[38;5;241m.\u001b[39m_mgr\u001b[38;5;241m.\u001b[39mreduce(blk_func)\n\u001b[1;32m  11563\u001b[0m out \u001b[38;5;241m=\u001b[39m df\u001b[38;5;241m.\u001b[39m_constructor_from_mgr(res, axes\u001b[38;5;241m=\u001b[39mres\u001b[38;5;241m.\u001b[39maxes)\u001b[38;5;241m.\u001b[39miloc[\u001b[38;5;241m0\u001b[39m]\n\u001b[1;32m  11564\u001b[0m \u001b[38;5;28;01mif\u001b[39;00m out_dtype \u001b[38;5;129;01mis\u001b[39;00m \u001b[38;5;129;01mnot\u001b[39;00m \u001b[38;5;28;01mNone\u001b[39;00m \u001b[38;5;129;01mand\u001b[39;00m out\u001b[38;5;241m.\u001b[39mdtype \u001b[38;5;241m!=\u001b[39m \u001b[38;5;124m\"\u001b[39m\u001b[38;5;124mboolean\u001b[39m\u001b[38;5;124m\"\u001b[39m:\n",
      "File \u001b[0;32m~/anaconda3/lib/python3.12/site-packages/pandas/core/internals/managers.py:1500\u001b[0m, in \u001b[0;36mBlockManager.reduce\u001b[0;34m(self, func)\u001b[0m\n\u001b[1;32m   1498\u001b[0m res_blocks: \u001b[38;5;28mlist\u001b[39m[Block] \u001b[38;5;241m=\u001b[39m []\n\u001b[1;32m   1499\u001b[0m \u001b[38;5;28;01mfor\u001b[39;00m blk \u001b[38;5;129;01min\u001b[39;00m \u001b[38;5;28mself\u001b[39m\u001b[38;5;241m.\u001b[39mblocks:\n\u001b[0;32m-> 1500\u001b[0m     nbs \u001b[38;5;241m=\u001b[39m blk\u001b[38;5;241m.\u001b[39mreduce(func)\n\u001b[1;32m   1501\u001b[0m     res_blocks\u001b[38;5;241m.\u001b[39mextend(nbs)\n\u001b[1;32m   1503\u001b[0m index \u001b[38;5;241m=\u001b[39m Index([\u001b[38;5;28;01mNone\u001b[39;00m])  \u001b[38;5;66;03m# placeholder\u001b[39;00m\n",
      "File \u001b[0;32m~/anaconda3/lib/python3.12/site-packages/pandas/core/internals/blocks.py:404\u001b[0m, in \u001b[0;36mBlock.reduce\u001b[0;34m(self, func)\u001b[0m\n\u001b[1;32m    398\u001b[0m \u001b[38;5;129m@final\u001b[39m\n\u001b[1;32m    399\u001b[0m \u001b[38;5;28;01mdef\u001b[39;00m \u001b[38;5;21mreduce\u001b[39m(\u001b[38;5;28mself\u001b[39m, func) \u001b[38;5;241m-\u001b[39m\u001b[38;5;241m>\u001b[39m \u001b[38;5;28mlist\u001b[39m[Block]:\n\u001b[1;32m    400\u001b[0m     \u001b[38;5;66;03m# We will apply the function and reshape the result into a single-row\u001b[39;00m\n\u001b[1;32m    401\u001b[0m     \u001b[38;5;66;03m#  Block with the same mgr_locs; squeezing will be done at a higher level\u001b[39;00m\n\u001b[1;32m    402\u001b[0m     \u001b[38;5;28;01massert\u001b[39;00m \u001b[38;5;28mself\u001b[39m\u001b[38;5;241m.\u001b[39mndim \u001b[38;5;241m==\u001b[39m \u001b[38;5;241m2\u001b[39m\n\u001b[0;32m--> 404\u001b[0m     result \u001b[38;5;241m=\u001b[39m func(\u001b[38;5;28mself\u001b[39m\u001b[38;5;241m.\u001b[39mvalues)\n\u001b[1;32m    406\u001b[0m     \u001b[38;5;28;01mif\u001b[39;00m \u001b[38;5;28mself\u001b[39m\u001b[38;5;241m.\u001b[39mvalues\u001b[38;5;241m.\u001b[39mndim \u001b[38;5;241m==\u001b[39m \u001b[38;5;241m1\u001b[39m:\n\u001b[1;32m    407\u001b[0m         res_values \u001b[38;5;241m=\u001b[39m result\n",
      "File \u001b[0;32m~/anaconda3/lib/python3.12/site-packages/pandas/core/frame.py:11481\u001b[0m, in \u001b[0;36mDataFrame._reduce.<locals>.blk_func\u001b[0;34m(values, axis)\u001b[0m\n\u001b[1;32m  11479\u001b[0m         \u001b[38;5;28;01mreturn\u001b[39;00m np\u001b[38;5;241m.\u001b[39marray([result])\n\u001b[1;32m  11480\u001b[0m \u001b[38;5;28;01melse\u001b[39;00m:\n\u001b[0;32m> 11481\u001b[0m     \u001b[38;5;28;01mreturn\u001b[39;00m op(values, axis\u001b[38;5;241m=\u001b[39maxis, skipna\u001b[38;5;241m=\u001b[39mskipna, \u001b[38;5;241m*\u001b[39m\u001b[38;5;241m*\u001b[39mkwds)\n",
      "File \u001b[0;32m~/anaconda3/lib/python3.12/site-packages/pandas/core/nanops.py:147\u001b[0m, in \u001b[0;36mbottleneck_switch.__call__.<locals>.f\u001b[0;34m(values, axis, skipna, **kwds)\u001b[0m\n\u001b[1;32m    145\u001b[0m         result \u001b[38;5;241m=\u001b[39m alt(values, axis\u001b[38;5;241m=\u001b[39maxis, skipna\u001b[38;5;241m=\u001b[39mskipna, \u001b[38;5;241m*\u001b[39m\u001b[38;5;241m*\u001b[39mkwds)\n\u001b[1;32m    146\u001b[0m \u001b[38;5;28;01melse\u001b[39;00m:\n\u001b[0;32m--> 147\u001b[0m     result \u001b[38;5;241m=\u001b[39m alt(values, axis\u001b[38;5;241m=\u001b[39maxis, skipna\u001b[38;5;241m=\u001b[39mskipna, \u001b[38;5;241m*\u001b[39m\u001b[38;5;241m*\u001b[39mkwds)\n\u001b[1;32m    149\u001b[0m \u001b[38;5;28;01mreturn\u001b[39;00m result\n",
      "File \u001b[0;32m~/anaconda3/lib/python3.12/site-packages/pandas/core/nanops.py:787\u001b[0m, in \u001b[0;36mnanmedian\u001b[0;34m(values, axis, skipna, mask)\u001b[0m\n\u001b[1;32m    785\u001b[0m     inferred \u001b[38;5;241m=\u001b[39m lib\u001b[38;5;241m.\u001b[39minfer_dtype(values)\n\u001b[1;32m    786\u001b[0m     \u001b[38;5;28;01mif\u001b[39;00m inferred \u001b[38;5;129;01min\u001b[39;00m [\u001b[38;5;124m\"\u001b[39m\u001b[38;5;124mstring\u001b[39m\u001b[38;5;124m\"\u001b[39m, \u001b[38;5;124m\"\u001b[39m\u001b[38;5;124mmixed\u001b[39m\u001b[38;5;124m\"\u001b[39m]:\n\u001b[0;32m--> 787\u001b[0m         \u001b[38;5;28;01mraise\u001b[39;00m \u001b[38;5;167;01mTypeError\u001b[39;00m(\u001b[38;5;124mf\u001b[39m\u001b[38;5;124m\"\u001b[39m\u001b[38;5;124mCannot convert \u001b[39m\u001b[38;5;132;01m{\u001b[39;00mvalues\u001b[38;5;132;01m}\u001b[39;00m\u001b[38;5;124m to numeric\u001b[39m\u001b[38;5;124m\"\u001b[39m)\n\u001b[1;32m    788\u001b[0m \u001b[38;5;28;01mtry\u001b[39;00m:\n\u001b[1;32m    789\u001b[0m     values \u001b[38;5;241m=\u001b[39m values\u001b[38;5;241m.\u001b[39mastype(\u001b[38;5;124m\"\u001b[39m\u001b[38;5;124mf8\u001b[39m\u001b[38;5;124m\"\u001b[39m)\n",
      "\u001b[0;31mTypeError\u001b[0m: Cannot convert [['08-07-2018' '09-07-2018' '10-07-2018' ... '23-11-2018' '24-11-2018'\n  '25-11-2018']\n ['t10' 't10' 't10' ... 't9' 't9' 't9']] to numeric"
     ]
    }
   ],
   "source": [
    "df_filled_median = df_target_cleaned.fillna(df_target_cleaned.median())\n",
    "\n",
    "print(\"Missing values replaced by the median of their respective attributes.\")\n",
    "print(df_filled_median.head())  # Display the first few rows of the updated dataset\n",
    "\n",
    "# Verify if there are any missing values remaining\n",
    "print(\"\\nNumber of missing values in each attribute after replacement:\")\n",
    "print(df_filled_median.isnull().sum())\n"
   ]
  },
  {
   "cell_type": "code",
   "execution_count": 23,
   "id": "e89e6ac7-bc50-47a2-b07b-d41bcbf5e37e",
   "metadata": {},
   "outputs": [
    {
     "name": "stdout",
     "output_type": "stream",
     "text": [
      "Missing values replaced by the median of their respective attributes.\n",
      "        dates stationid     dispx     dispy     dispz temperature  humidity  \\\n",
      "0  08-07-2018       t10  0.000000  0.031452  0.000000        <NA>  82.18750   \n",
      "1  09-07-2018       t10  0.000000  0.000000  0.000000        <NA>  83.14912   \n",
      "2  10-07-2018       t10  0.000000  0.000000  0.000000        <NA>  85.34043   \n",
      "3  11-07-2018       t10 -0.002835  0.003721  0.004961         NaN  87.68657   \n",
      "4  12-07-2018       t10 -0.002835  0.003721  0.004961         NaN  87.64615   \n",
      "\n",
      "      rain  \n",
      "0     6.75  \n",
      "1  1761.75  \n",
      "2   652.50  \n",
      "3   963.00  \n",
      "4   254.25  \n",
      "\n",
      "Number of missing values in each attribute after replacement:\n",
      "dates           0\n",
      "stationid      22\n",
      "dispx           0\n",
      "dispy           0\n",
      "dispz           0\n",
      "temperature    23\n",
      "humidity        0\n",
      "rain            0\n",
      "dtype: int64\n"
     ]
    }
   ],
   "source": [
    "# Select only numeric columns for median computation\n",
    "numeric_columns = df_target_cleaned.select_dtypes(include=['number']).columns\n",
    "\n",
    "# Compute the median for numeric columns\n",
    "medians = df_target_cleaned[numeric_columns].median()\n",
    "\n",
    "# Fill missing values in numeric columns with their respective medians\n",
    "df_filled_median = df_target_cleaned.copy()\n",
    "df_filled_median[numeric_columns] = df_filled_median[numeric_columns].fillna(medians)\n",
    "\n",
    "# Print the results\n",
    "print(\"Missing values replaced by the median of their respective attributes.\")\n",
    "print(df_filled_median.head())  # Display the first few rows of the updated dataset\n",
    "\n",
    "# Verify if there are any missing values remaining\n",
    "print(\"\\nNumber of missing values in each attribute after replacement:\")\n",
    "print(df_filled_median.isnull().sum())\n"
   ]
  },
  {
   "cell_type": "code",
   "execution_count": 25,
   "id": "e26155ad-8d45-4e2d-89f5-2520dcea44df",
   "metadata": {},
   "outputs": [
    {
     "name": "stdout",
     "output_type": "stream",
     "text": [
      "Comparison of Statistics Between Original and Processed Dataset:\n",
      "             Original Mean  Original Median  Original Std Original Mode  \\\n",
      "dispx            -0.838917        -0.141613      2.892552     -2.045517   \n",
      "dispy             1.148107         0.030477      2.652794     -2.014331   \n",
      "dispz             0.687709        -0.172586      2.630815     -1.797093   \n",
      "temperature      21.214888        22.272730      4.355818      12.72727   \n",
      "humidity         83.479932        91.380950     18.210065          99.0   \n",
      "rain          10701.538370        18.000000  24852.255288           0.0   \n",
      "\n",
      "             Processed Mean  Processed Median  Processed Std Processed Mode  \n",
      "dispx             -0.841484         -0.141613       2.891301      -2.045517  \n",
      "dispy              1.133352          0.031452       2.641793      -2.014331  \n",
      "dispz              0.661140         -0.219011       2.610671      -0.219011  \n",
      "temperature             NaN               NaN            NaN            NaN  \n",
      "humidity          83.923032         91.489210      17.815136           99.0  \n",
      "rain           10528.522391         18.000000   24669.057271            0.0  \n"
     ]
    }
   ],
   "source": [
    "# Load the original and processed files\n",
    "df_original = pd.read_csv(\"landslide_data2_original.csv\")\n",
    "df_processed = df_filled_median  # This is the DataFrame after filling missing values with median\n",
    "\n",
    "# Compute statistics for the original dataset\n",
    "original_stats = df_original.describe().transpose()\n",
    "original_stats['Mode'] = df_original.mode().iloc[0]\n",
    "\n",
    "# Compute statistics for the processed dataset\n",
    "processed_stats = df_processed.describe().transpose()\n",
    "processed_stats['Mode'] = df_processed.mode().iloc[0]\n",
    "\n",
    "# Combine and compare\n",
    "comparison = original_stats[['mean', '50%', 'std', 'Mode']].copy()\n",
    "comparison.columns = ['Original Mean', 'Original Median', 'Original Std', 'Original Mode']\n",
    "\n",
    "processed_comparison = processed_stats[['mean', '50%', 'std', 'Mode']].copy()\n",
    "processed_comparison.columns = ['Processed Mean', 'Processed Median', 'Processed Std', 'Processed Mode']\n",
    "\n",
    "comparison = pd.concat([comparison, processed_comparison], axis=1)\n",
    "\n",
    "print(\"Comparison of Statistics Between Original and Processed Dataset:\")\n",
    "print(comparison)\n"
   ]
  },
  {
   "cell_type": "code",
   "execution_count": null,
   "id": "99049857-1230-4d6c-b8d9-4f5818bd846d",
   "metadata": {},
   "outputs": [],
   "source": []
  },
  {
   "cell_type": "code",
   "execution_count": 28,
   "id": "7090d235-3a75-4c98-91bd-9874914456e9",
   "metadata": {},
   "outputs": [
    {
     "ename": "ValueError",
     "evalue": "operands could not be broadcast together with shapes (945,) (916,) ",
     "output_type": "error",
     "traceback": [
      "\u001b[0;31m---------------------------------------------------------------------------\u001b[0m",
      "\u001b[0;31mValueError\u001b[0m                                Traceback (most recent call last)",
      "Cell \u001b[0;32mIn[28], line 17\u001b[0m\n\u001b[1;32m     15\u001b[0m     original_values \u001b[38;5;241m=\u001b[39m df_original[column]\u001b[38;5;241m.\u001b[39mvalues\n\u001b[1;32m     16\u001b[0m     processed_values \u001b[38;5;241m=\u001b[39m df_processed[column]\u001b[38;5;241m.\u001b[39mvalues\n\u001b[0;32m---> 17\u001b[0m     rmse \u001b[38;5;241m=\u001b[39m np\u001b[38;5;241m.\u001b[39msqrt(np\u001b[38;5;241m.\u001b[39mmean((original_values \u001b[38;5;241m-\u001b[39m processed_values) \u001b[38;5;241m*\u001b[39m\u001b[38;5;241m*\u001b[39m \u001b[38;5;241m2\u001b[39m))\n\u001b[1;32m     18\u001b[0m     rmse_values[column] \u001b[38;5;241m=\u001b[39m rmse\n\u001b[1;32m     20\u001b[0m \u001b[38;5;66;03m# Display RMSE for each attribute\u001b[39;00m\n",
      "\u001b[0;31mValueError\u001b[0m: operands could not be broadcast together with shapes (945,) (916,) "
     ]
    }
   ],
   "source": [
    "import numpy as np\n",
    "\n",
    "# Load the original dataset\n",
    "df_original = pd.read_csv(\"landslide_data2_original.csv\")\n",
    "\n",
    "# Ensure df_filled_median represents the processed dataset with median-imputed values\n",
    "df_processed = df_filled_median.copy()\n",
    "\n",
    "# Align columns and rows for comparison (if necessary)\n",
    "df_original = df_original[df_processed.columns]\n",
    "\n",
    "# Calculate RMSE for each attribute\n",
    "rmse_values = {}\n",
    "for column in df_original.columns:\n",
    "    original_values = df_original[column].values\n",
    "    processed_values = df_processed[column].values\n",
    "    rmse = np.sqrt(np.mean((original_values - processed_values) ** 2))\n",
    "    rmse_values[column] = rmse\n",
    "\n",
    "# Display RMSE for each attribute\n",
    "print(\"Root Mean Square Error (RMSE) for each attribute:\")\n",
    "for attribute, rmse in rmse_values.items():\n",
    "    print(f\"{attribute}: {rmse:.4f}\")\n"
   ]
  },
  {
   "cell_type": "code",
   "execution_count": 30,
   "id": "ac2601a5-55e2-423a-bfe1-363d6ef3e105",
   "metadata": {},
   "outputs": [
    {
     "ename": "TypeError",
     "evalue": "unsupported operand type(s) for -: 'str' and 'str'",
     "output_type": "error",
     "traceback": [
      "\u001b[0;31m---------------------------------------------------------------------------\u001b[0m",
      "\u001b[0;31mTypeError\u001b[0m                                 Traceback (most recent call last)",
      "Cell \u001b[0;32mIn[30], line 16\u001b[0m\n\u001b[1;32m     14\u001b[0m     original_values \u001b[38;5;241m=\u001b[39m df_original[column]\u001b[38;5;241m.\u001b[39mvalues\n\u001b[1;32m     15\u001b[0m     processed_values \u001b[38;5;241m=\u001b[39m df_processed[column]\u001b[38;5;241m.\u001b[39mvalues\n\u001b[0;32m---> 16\u001b[0m     rmse \u001b[38;5;241m=\u001b[39m np\u001b[38;5;241m.\u001b[39msqrt(np\u001b[38;5;241m.\u001b[39mmean((original_values \u001b[38;5;241m-\u001b[39m processed_values) \u001b[38;5;241m*\u001b[39m\u001b[38;5;241m*\u001b[39m \u001b[38;5;241m2\u001b[39m))\n\u001b[1;32m     17\u001b[0m     rmse_values[column] \u001b[38;5;241m=\u001b[39m rmse\n\u001b[1;32m     19\u001b[0m \u001b[38;5;66;03m# Display RMSE for each attribute\u001b[39;00m\n",
      "\u001b[0;31mTypeError\u001b[0m: unsupported operand type(s) for -: 'str' and 'str'"
     ]
    }
   ],
   "source": [
    "# Align columns\n",
    "common_columns = df_original.columns.intersection(df_processed.columns)\n",
    "df_original = df_original[common_columns]\n",
    "df_processed = df_processed[common_columns]\n",
    "\n",
    "# Align rows based on the index\n",
    "common_indices = df_original.index.intersection(df_processed.index)\n",
    "df_original = df_original.loc[common_indices]\n",
    "df_processed = df_processed.loc[common_indices]\n",
    "\n",
    "# Calculate RMSE for each attribute\n",
    "rmse_values = {}\n",
    "for column in df_original.columns:\n",
    "    original_values = df_original[column].values\n",
    "    processed_values = df_processed[column].values\n",
    "    rmse = np.sqrt(np.mean((original_values - processed_values) ** 2))\n",
    "    rmse_values[column] = rmse\n",
    "\n",
    "# Display RMSE for each attribute\n",
    "print(\"Root Mean Square Error (RMSE) for each attribute:\")\n",
    "for attribute, rmse in rmse_values.items():\n",
    "    print(f\"{attribute}: {rmse:.4f}\")\n"
   ]
  },
  {
   "cell_type": "code",
   "execution_count": 32,
   "id": "fbb3ad88-7722-44d0-ad31-11b1f197286d",
   "metadata": {},
   "outputs": [
    {
     "name": "stdout",
     "output_type": "stream",
     "text": [
      "Root Mean Square Error (RMSE) for each attribute:\n",
      "dispx: 0.2697\n",
      "dispy: 0.4228\n",
      "dispz: 0.4916\n",
      "temperature: <NA>\n",
      "humidity: 4.6086\n",
      "rain: 0.0000\n"
     ]
    }
   ],
   "source": [
    "# Ensure df_filled_median represents the processed dataset with median-imputed values\n",
    "df_processed = df_filled_median.copy()\n",
    "\n",
    "# Align columns\n",
    "common_columns = df_original.columns.intersection(df_processed.columns)\n",
    "df_original = df_original[common_columns]\n",
    "df_processed = df_processed[common_columns]\n",
    "\n",
    "# Align rows based on the index\n",
    "common_indices = df_original.index.intersection(df_processed.index)\n",
    "df_original = df_original.loc[common_indices]\n",
    "df_processed = df_processed.loc[common_indices]\n",
    "\n",
    "# Calculate RMSE for each numeric attribute\n",
    "rmse_values = {}\n",
    "for column in df_original.columns:\n",
    "    # Skip non-numeric columns\n",
    "    if df_original[column].dtype in ['float64', 'int64']:\n",
    "        original_values = df_original[column].values\n",
    "        processed_values = df_processed[column].values\n",
    "        rmse = np.sqrt(np.mean((original_values - processed_values) ** 2))\n",
    "        rmse_values[column] = rmse\n",
    "\n",
    "# Display RMSE for each numeric attribute\n",
    "print(\"Root Mean Square Error (RMSE) for each attribute:\")\n",
    "for attribute, rmse in rmse_values.items():\n",
    "    print(f\"{attribute}: {rmse:.4f}\")"
   ]
  },
  {
   "cell_type": "code",
   "execution_count": 50,
   "id": "d23e7558-a1a1-4a4f-9370-766c9b182b02",
   "metadata": {},
   "outputs": [
    {
     "name": "stdout",
     "output_type": "stream",
     "text": [
      "\n",
      "Root Mean Square Error (RMSE) as a percentage of the mean for each attribute:\n",
      "dispx: 13.46%\n",
      "dispy: 20.13%\n",
      "dispz: 24.38%\n",
      "temperature: <NA>%\n",
      "humidity: 5.52%\n",
      "rain: 0.00%\n"
     ]
    }
   ],
   "source": [
    "# Calculate RMSE as a percentage\n",
    "rmse_percentage = {}\n",
    "for column in df_original.columns:\n",
    "    # Skip non-numeric columns\n",
    "    if df_original[column].dtype in ['float64', 'int64']:\n",
    "        original_values = df_original[column].values\n",
    "        processed_values = df_processed[column].values\n",
    "        # Calculate RMSE\n",
    "        rmse = np.sqrt(np.mean((original_values - processed_values) ** 2))\n",
    "        # Calculate RMSE as a percentage of the mean of original values\n",
    "        mean_value = np.mean(np.abs(original_values))\n",
    "        if mean_value != 0:  # Avoid division by zero\n",
    "            rmse_percent = (rmse / mean_value) * 100\n",
    "        else:\n",
    "            rmse_percent = 0  # If mean is zero, RMSE percent is not meaningful\n",
    "        rmse_percentage[column] = rmse_percent\n",
    "\n",
    "# Display RMSE percentage for each numeric attribute\n",
    "print(\"\\nRoot Mean Square Error (RMSE) as a percentage of the mean for each attribute:\")\n",
    "for attribute, rmse_percent in rmse_percentage.items():\n",
    "    print(f\"{attribute}: {rmse_percent:.2f}%\")\n"
   ]
  },
  {
   "cell_type": "code",
   "execution_count": 34,
   "id": "1a2c8242-d4a2-4c19-9be9-482c97d0ec73",
   "metadata": {},
   "outputs": [
    {
     "name": "stdout",
     "output_type": "stream",
     "text": [
      "DataFrame after forward filling missing values:\n",
      "        dates stationid     dispx     dispy     dispz temperature  humidity  \\\n",
      "0  08-07-2018       t10  0.000000       NaN  0.000000        <NA>  82.18750   \n",
      "1  09-07-2018       t10  0.000000  0.000000  0.000000        <NA>  83.14912   \n",
      "2  10-07-2018       t10  0.000000  0.000000  0.000000        <NA>  85.34043   \n",
      "3  11-07-2018       t10 -0.002835  0.003721  0.004961        <NA>  87.68657   \n",
      "4  12-07-2018       t10 -0.002835  0.003721  0.004961        <NA>  87.64615   \n",
      "\n",
      "      rain  \n",
      "0     6.75  \n",
      "1  1761.75  \n",
      "2   652.50  \n",
      "3   963.00  \n",
      "4   254.25  \n",
      "Total number of missing values after forward filling: 9\n"
     ]
    },
    {
     "name": "stderr",
     "output_type": "stream",
     "text": [
      "/tmp/ipykernel_8750/896653360.py:3: FutureWarning: DataFrame.fillna with 'method' is deprecated and will raise in a future version. Use obj.ffill() or obj.bfill() instead.\n",
      "  df_filled_propagated = df_miss.fillna(method='ffill')\n"
     ]
    }
   ],
   "source": [
    "# Assuming df_wine_miss is the DataFrame with missing values\n",
    "# Replace missing values by propagating previous non-missing values\n",
    "df_filled_propagated = df_miss.fillna(method='ffill')\n",
    "\n",
    "# Display the first few rows of the filled DataFrame\n",
    "print(\"DataFrame after forward filling missing values:\")\n",
    "print(df_filled_propagated.head())\n",
    "\n",
    "# Check if there are still missing values\n",
    "missing_values_count = df_filled_propagated.isnull().sum().sum()\n",
    "print(f\"Total number of missing values after forward filling: {missing_values_count}\")\n"
   ]
  },
  {
   "cell_type": "code",
   "execution_count": 36,
   "id": "6c64cc51-73e4-4464-a106-9569b20fb607",
   "metadata": {},
   "outputs": [
    {
     "data": {
      "text/plain": [
       "dates          0\n",
       "stationid      0\n",
       "dispx          0\n",
       "dispy          1\n",
       "dispz          0\n",
       "temperature    8\n",
       "humidity       0\n",
       "rain           0\n",
       "dtype: int64"
      ]
     },
     "execution_count": 36,
     "metadata": {},
     "output_type": "execute_result"
    }
   ],
   "source": [
    "df_filled_propagated.isnull().sum()"
   ]
  },
  {
   "cell_type": "code",
   "execution_count": 38,
   "id": "1aa1cffd-71eb-4864-96d3-5ffebd40f99f",
   "metadata": {},
   "outputs": [
    {
     "name": "stdout",
     "output_type": "stream",
     "text": [
      "DataFrame after linear interpolation:\n",
      "        dates stationid     dispx     dispy     dispz temperature  humidity  \\\n",
      "0  08-07-2018       t10  0.000000       NaN  0.000000        <NA>  82.18750   \n",
      "1  09-07-2018       t10  0.000000  0.000000  0.000000        <NA>  83.14912   \n",
      "2  10-07-2018       t10  0.000000  0.000000  0.000000        <NA>  85.34043   \n",
      "3  11-07-2018       t10 -0.002835  0.003721  0.004961         NaN  87.68657   \n",
      "4  12-07-2018       t10 -0.002835  0.003721  0.004961         NaN  87.64615   \n",
      "\n",
      "      rain  \n",
      "0     6.75  \n",
      "1  1761.75  \n",
      "2   652.50  \n",
      "3   963.00  \n",
      "4   254.25  \n",
      "Total number of missing values after linear interpolation: 72\n"
     ]
    },
    {
     "name": "stderr",
     "output_type": "stream",
     "text": [
      "/tmp/ipykernel_8750/1397352804.py:2: FutureWarning: DataFrame.interpolate with object dtype is deprecated and will raise in a future version. Call obj.infer_objects(copy=False) before interpolating instead.\n",
      "  df_interpolated = df_miss.interpolate(method='linear', axis=0)\n"
     ]
    }
   ],
   "source": [
    "# Replace missing values using linear interpolation\n",
    "df_interpolated = df_miss.interpolate(method='linear', axis=0)\n",
    "\n",
    "# Display the first few rows of the interpolated DataFrame\n",
    "print(\"DataFrame after linear interpolation:\")\n",
    "print(df_interpolated.head())\n",
    "\n",
    "# Check for remaining missing values\n",
    "missing_values_count = df_interpolated.isnull().sum().sum()\n",
    "print(f\"Total number of missing values after linear interpolation: {missing_values_count}\")\n"
   ]
  },
  {
   "cell_type": "code",
   "execution_count": 40,
   "id": "4c1a5a63-c86f-46f1-b856-f604918da765",
   "metadata": {},
   "outputs": [
    {
     "data": {
      "text/plain": [
       "dates           0\n",
       "stationid      22\n",
       "dispx           0\n",
       "dispy           1\n",
       "dispz           0\n",
       "temperature    49\n",
       "humidity        0\n",
       "rain            0\n",
       "dtype: int64"
      ]
     },
     "execution_count": 40,
     "metadata": {},
     "output_type": "execute_result"
    }
   ],
   "source": [
    "df_interpolated.isnull().sum()"
   ]
  },
  {
   "cell_type": "code",
   "execution_count": null,
   "id": "f0694e06-1839-423f-8b74-e538603d9eb0",
   "metadata": {},
   "outputs": [],
   "source": []
  }
 ],
 "metadata": {
  "kernelspec": {
   "display_name": "Python [conda env:base] *",
   "language": "python",
   "name": "conda-base-py"
  },
  "language_info": {
   "codemirror_mode": {
    "name": "ipython",
    "version": 3
   },
   "file_extension": ".py",
   "mimetype": "text/x-python",
   "name": "python",
   "nbconvert_exporter": "python",
   "pygments_lexer": "ipython3",
   "version": "3.12.7"
  }
 },
 "nbformat": 4,
 "nbformat_minor": 5
}
