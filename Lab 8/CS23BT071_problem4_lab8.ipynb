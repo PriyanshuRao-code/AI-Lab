{
 "cells": [
  {
   "cell_type": "code",
   "execution_count": 34,
   "id": "a331e631-a976-4a63-bc31-24b94855ea90",
   "metadata": {},
   "outputs": [],
   "source": [
    "import numpy as np\n",
    "import pandas as pd\n",
    "import matplotlib.pyplot as plt\n",
    "from sklearn.metrics import mean_squared_error\n",
    "from math import sqrt\n",
    "import torch\n",
    "import torch.nn as nn\n",
    "import torch.optim as optim"
   ]
  },
  {
   "cell_type": "code",
   "execution_count": 69,
   "id": "f572db0e-7636-4a17-915e-5cf40ee29841",
   "metadata": {},
   "outputs": [],
   "source": [
    "train=pd.read_csv('train.csv')\n",
    "valid=pd.read_csv('valid.csv')\n",
    "test=pd.read_csv('test.csv')"
   ]
  },
  {
   "cell_type": "code",
   "execution_count": 70,
   "id": "8ffb2708-b0de-47e8-a4e6-216cec340d77",
   "metadata": {},
   "outputs": [],
   "source": [
    "X_train = torch.tensor(train['PT08.S1(CO)'].values.reshape(-1,1), dtype=torch.float32)\n",
    "y_train = torch.tensor(train['CO(GT)'], dtype=torch.float32).view(-1,1)\n",
    "\n",
    "\n",
    "X_valid = torch.tensor(valid['PT08.S1(CO)'].values.reshape(-1,1), dtype=torch.float32)\n",
    "y_valid = torch.tensor(valid['CO(GT)'], dtype=torch.float32).view(-1,1)\n",
    "\n",
    "\n",
    "X_test = torch.tensor(test['PT08.S1(CO)'].values.reshape(-1,1), dtype=torch.float32)\n",
    "y_test = torch.tensor(test['CO(GT)'], dtype=torch.float32).view(-1,1)"
   ]
  },
  {
   "cell_type": "code",
   "execution_count": 71,
   "id": "bef87017-09ce-43cd-9578-dce9a078a739",
   "metadata": {},
   "outputs": [
    {
     "data": {
      "text/plain": [
       "tensor([[1181.],\n",
       "        [1070.],\n",
       "        [1086.],\n",
       "        ...,\n",
       "        [ 809.],\n",
       "        [ 922.],\n",
       "        [1005.]])"
      ]
     },
     "execution_count": 71,
     "metadata": {},
     "output_type": "execute_result"
    }
   ],
   "source": [
    "X_train"
   ]
  },
  {
   "cell_type": "code",
   "execution_count": 72,
   "id": "1a270af3-4e4f-42e2-9c30-2048717fe236",
   "metadata": {},
   "outputs": [],
   "source": [
    "class NeuralNet(nn.Module ):\n",
    "    def __init__( self, input_size, hidden1):\n",
    "        super(). __init__ ()\n",
    "        self.layers = nn.Sequential(\n",
    "            nn.Linear(input_size, hidden1),\n",
    "            nn.Sigmoid(),\n",
    "            nn.Linear(hidden1, 1)\n",
    "            )\n",
    "    \n",
    "    def forward(self, x ):\n",
    "        return self.layers(x)\n"
   ]
  },
  {
   "cell_type": "code",
   "execution_count": 73,
   "id": "b9e5063d-f7ab-456e-9f60-f4ca8597530e",
   "metadata": {},
   "outputs": [],
   "source": [
    "hidden_layers = [8, 16, 32, 64]\n",
    "best_modal = None\n",
    "best_rmse=float('inf')\n",
    "loss_history = {}\n",
    "epochs = 100\n",
    "y_test_pred_seq ={}\n",
    "y_train_rmse ={}\n",
    "y_test_rmse ={}\n",
    "y_valid_rmse ={}"
   ]
  },
  {
   "cell_type": "code",
   "execution_count": 74,
   "id": "839c228c-620b-4f3e-be9a-5e484277fb36",
   "metadata": {},
   "outputs": [],
   "source": [
    "for hidden in hidden_layers:\n",
    "    model = NeuralNet(input_size=1, hidden1=hidden)\n",
    "    criterion = nn.MSELoss()\n",
    "    optimizer = optim.SGD(model.parameters(), lr=0.01)\n",
    "\n",
    "    losses=[]\n",
    "\n",
    "    for epoch in range(100):\n",
    "        optimizer.zero_grad()\n",
    "        y_pred = model(X_train)\n",
    "        loss =criterion(y_pred, y_train)\n",
    "        loss.backward()\n",
    "        optimizer.step()\n",
    "\n",
    "        losses.append(loss.item())\n",
    "    loss_history[hidden] =losses\n",
    "    \n",
    "    y_test_pred = model(X_test).detach().numpy()\n",
    "    y_valid_pred = model(X_valid).detach().numpy()\n",
    "    y_train_pred = model(X_train).detach().numpy()\n",
    "\n",
    "    y_test_pred_seq[hidden] = y_test_pred\n",
    "\n",
    "    rmse_val = sqrt(mean_squared_error(y_valid_pred, y_valid))\n",
    "    y_train_rmse[hidden] = sqrt(mean_squared_error(y_train, y_train_pred))\n",
    "    y_valid_rmse[hidden] = sqrt(mean_squared_error(y_valid, y_valid_pred))\n",
    "    y_test_rmse[hidden] = sqrt(mean_squared_error(y_test, y_test_pred))\n",
    "    \n",
    "    if rmse_val < best_rmse:\n",
    "        best_rmse = rmse_val\n",
    "        best_model = model"
   ]
  },
  {
   "cell_type": "code",
   "execution_count": 75,
   "id": "d532448c-d4f6-4368-bb29-f6902656f748",
   "metadata": {},
   "outputs": [
    {
     "data": {
      "text/plain": [
       "1.5187028131886064"
      ]
     },
     "execution_count": 75,
     "metadata": {},
     "output_type": "execute_result"
    }
   ],
   "source": [
    "best_rmse"
   ]
  },
  {
   "cell_type": "code",
   "execution_count": 76,
   "id": "17ae71da-2756-4041-82a9-2ecc4804d54c",
   "metadata": {},
   "outputs": [
    {
     "data": {
      "text/plain": [
       "NeuralNet(\n",
       "  (layers): Sequential(\n",
       "    (0): Linear(in_features=1, out_features=16, bias=True)\n",
       "    (1): Sigmoid()\n",
       "    (2): Linear(in_features=16, out_features=1, bias=True)\n",
       "  )\n",
       ")"
      ]
     },
     "execution_count": 76,
     "metadata": {},
     "output_type": "execute_result"
    }
   ],
   "source": [
    "best_model"
   ]
  },
  {
   "cell_type": "code",
   "execution_count": 77,
   "id": "86bda6e0-1e27-4c3f-be78-f814d30585b8",
   "metadata": {},
   "outputs": [
    {
     "name": "stdout",
     "output_type": "stream",
     "text": [
      "From above we got best model as hidden layer 16 (from output of best_model)\n",
      "RMSE for training data: 1.427154966166896\n",
      "RMSE for validation data: 1.5187028131886064\n",
      "RMSE for test data: 1.4686959439333651\n"
     ]
    }
   ],
   "source": [
    "print(\"From above we got best model as hidden layer 16 (from output of best_model)\")\n",
    "print(f\"RMSE for training data: {y_train_rmse[16]}\")\n",
    "print(f\"RMSE for validation data: {y_valid_rmse[16]}\")\n",
    "print(f\"RMSE for test data: {y_test_rmse[16]}\")\n"
   ]
  },
  {
   "cell_type": "code",
   "execution_count": 78,
   "id": "34a93868-4276-4108-8af0-324803e853de",
   "metadata": {},
   "outputs": [
    {
     "data": {
      "image/png": "[encoded data removed]",
      "text/plain": [
       "<Figure size 640x480 with 1 Axes>"
      ]
     },
     "metadata": {},
     "output_type": "display_data"
    }
   ],
   "source": [
    "plt.plot(range(epochs), loss_history[16])\n",
    "plt.xlim(0, 100)\n",
    "plt.xlabel(\"Epochs\")\n",
    "plt.ylabel(\"Loss\")\n",
    "plt.title(\"Loss vs Epoch\")\n",
    "plt.show()"
   ]
  },
  {
   "cell_type": "code",
   "execution_count": 79,
   "id": "5d0d8924-f9aa-4428-9bff-5dcf3b665018",
   "metadata": {},
   "outputs": [],
   "source": [
    "# model_best = NeuralNet(input_size=1, hidden1=16)\n",
    "# criterion_best = nn.MSELoss()\n",
    "# optimizer_best = optim.SGD(model_best.parameters(), lr=0.01)\n",
    "\n",
    "# losses_best=[]\n",
    "\n",
    "# for epoch in range(epochs):\n",
    "#     optimizer_best.zero_grad()\n",
    "#     y_pred_best = model(X_train)\n",
    "#     loss_best =criterion(y_pred_best, y_train)\n",
    "#     loss_best.backward()\n",
    "#     optimizer_best.step()\n",
    "\n",
    "#     losses_best.append(loss.item())\n",
    "\n",
    "# y_train_pred_best = model(X_train).detach().numpy()\n",
    "# y_test_pred_best = model(X_test).detach().numpy()\n",
    "# y_valid_pred_best = model(X_valid).detach().numpy()\n",
    "\n",
    "# y_train_rmse_best = sqrt(mean_squared_error(y_train, y_train_pred_best))\n",
    "# y_valid_rmse_best = sqrt(mean_squared_error(y_valid, y_valid_pred_best))\n",
    "# y_test_rmse_best = sqrt(mean_squared_error(y_test, y_test_pred_best))\n",
    "\n",
    "# print(f\"RMSE for training data: {y_train_rmse_best}\")\n",
    "# print(f\"RMSE for validation data: {y_valid_rmse_best}\")\n",
    "# print(f\"RMSE for test data: {y_test_rmse_best}\")"
   ]
  },
  {
   "cell_type": "code",
   "execution_count": 80,
   "id": "8a4a0e13-a984-4cdd-8970-a1e43e373b01",
   "metadata": {},
   "outputs": [
    {
     "data": {
      "image/png": "[encoded data removed]",
      "text/plain": [
       "<Figure size 640x480 with 1 Axes>"
      ]
     },
     "metadata": {},
     "output_type": "display_data"
    }
   ],
   "source": [
    "plt.scatter(y_test, y_test_pred_seq[16])\n",
    "plt.xlabel(\"Actual CO(GT)\")\n",
    "plt.ylabel(\"Predicted CO(GT)\")\n",
    "plt.title(\"Test data: Actual vs Predicted CO(GT)\")\n",
    "\n",
    "plt.show()"
   ]
  },
  {
   "cell_type": "code",
   "execution_count": null,
   "id": "9107e4d4-3333-4250-ad74-3296c81a988d",
   "metadata": {},
   "outputs": [],
   "source": []
  }
 ],
 "metadata": {
  "kernelspec": {
   "display_name": "Python 3 (ipykernel)",
   "language": "python",
   "name": "python3"
  },
  "language_info": {
   "codemirror_mode": {
    "name": "ipython",
    "version": 3
   },
   "file_extension": ".py",
   "mimetype": "text/x-python",
   "name": "python",
   "nbconvert_exporter": "python",
   "pygments_lexer": "ipython3",
   "version": "3.8.10"
  }
 },
 "nbformat": 4,
 "nbformat_minor": 5
}
