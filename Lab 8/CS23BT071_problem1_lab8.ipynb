{
 "cells": [
  {
   "cell_type": "code",
   "execution_count": 1,
   "id": "0341d379-af93-439f-987f-8749507810fc",
   "metadata": {},
   "outputs": [],
   "source": [
    "import pandas as pd\n",
    "from sklearn.model_selection import train_test_split\n",
    "import numpy as np"
   ]
  },
  {
   "cell_type": "code",
   "execution_count": 2,
   "id": "f819a608-3272-49f3-aee2-fbb419f1ba42",
   "metadata": {},
   "outputs": [],
   "source": [
    "df = pd.read_csv('AirQuality.csv')"
   ]
  },
  {
   "cell_type": "code",
   "execution_count": 3,
   "id": "fde609a6-4f80-4cb0-8e93-86856632512d",
   "metadata": {},
   "outputs": [],
   "source": [
    "train, temp = train_test_split(df, test_size=0.4, random_state=42)\n",
    "valid, test = train_test_split(temp, test_size=0.5, random_state=42)"
   ]
  },
  {
   "cell_type": "code",
   "execution_count": 4,
   "id": "d41afc90-4efc-47b8-a5db-aaf5183c6be8",
   "metadata": {},
   "outputs": [],
   "source": [
    "train.to_csv('train.csv',index=False)\n",
    "valid.to_csv('valid.csv',index=False)\n",
    "test.to_csv('test.csv',index=False)"
   ]
  },
  {
   "cell_type": "code",
   "execution_count": null,
   "id": "5bc27182-b935-4d62-9466-e595f3092add",
   "metadata": {},
   "outputs": [],
   "source": []
  }
 ],
 "metadata": {
  "kernelspec": {
   "display_name": "Python 3 (ipykernel)",
   "language": "python",
   "name": "python3"
  },
  "language_info": {
   "codemirror_mode": {
    "name": "ipython",
    "version": 3
   },
   "file_extension": ".py",
   "mimetype": "text/x-python",
   "name": "python",
   "nbconvert_exporter": "python",
   "pygments_lexer": "ipython3",
   "version": "3.8.10"
  }
 },
 "nbformat": 4,
 "nbformat_minor": 5
}
