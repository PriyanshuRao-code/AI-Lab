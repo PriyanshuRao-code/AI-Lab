{
 "cells": [
  {
   "cell_type": "code",
   "execution_count": 1,
   "id": "64a0bafd-2b61-4b71-a4a1-8c7b606a5bd9",
   "metadata": {},
   "outputs": [],
   "source": [
    "import pandas as pd"
   ]
  },
  {
   "cell_type": "code",
   "execution_count": 2,
   "id": "6e88dd21-b469-4ae9-9b68-b1abc711e312",
   "metadata": {},
   "outputs": [
    {
     "data": {
      "text/plain": [
       "{'Dataset': ['Standardized', 'PCA (l=10)'],\n",
       " 'Single hidden layer model 1': [100, 100],\n",
       " 'Single hiddne layer model 2': [100, 100],\n",
       " 'Single hidden layer model 3': [100, 100],\n",
       " 'Single hidden layer model 4': [100, 100],\n",
       " 'Two hidden layer model 1': [100, 100],\n",
       " 'Two hiddne layer model 2': [100, 100],\n",
       " 'Two hidden layer model 3': [100, 100],\n",
       " 'Two hidden layer model 4': [100, 100]}"
      ]
     },
     "execution_count": 2,
     "metadata": {},
     "output_type": "execute_result"
    }
   ],
   "source": [
    "print(\"For validation\")\n",
    "data = {\n",
    "\"Dataset\": [ \"Standardized\", \"PCA (l=10)\"],\n",
    "\"Single hidden layer model 1\": [ 62.2, 62.2],\n",
    "\"Single hiddne layer model 2\": [ 62.2, 62.2],\n",
    "\"Single hidden layer model 3\": [ 62.2, 62.2],\n",
    "\"Single hidden layer model 4\": [ 62.2, 62.2],\n",
    "\"Two hidden layer model 1\": [ 37.7, 8],\n",
    "\"Two hiddne layer model 2\": [ 62.2, 62.2],\n",
    "\"Two hidden layer model 3\": [ 62.2, 37.7],\n",
    "\"Two hidden layer model 4\": [ 62.2, 37.7],\n",
    "}\n",
    "data"
   ]
  },
  {
   "cell_type": "code",
   "execution_count": 2,
   "id": "dc57ba0c-ed8e-40fc-9ac3-06e69f7149b1",
   "metadata": {},
   "outputs": [
    {
     "data": {
      "text/plain": [
       "{'Dataset': ['Standardized', 'PCA (l=10)'],\n",
       " 'Single hidden layer model 1': [100, 100],\n",
       " 'Single hiddne layer model 2': [100, 100],\n",
       " 'Single hidden layer model 3': [100, 100],\n",
       " 'Single hidden layer model 4': [100, 100],\n",
       " 'Two hidden layer model 1': [100, 100],\n",
       " 'Two hiddne layer model 2': [100, 100],\n",
       " 'Two hidden layer model 3': [100, 100],\n",
       " 'Two hidden layer model 4': [100, 100]}"
      ]
     },
     "execution_count": 2,
     "metadata": {},
     "output_type": "execute_result"
    }
   ],
   "source": [
    "print(\"For test\")\n",
    "data = {\n",
    "\"Dataset\": [ \"Standardized\", \"PCA (l=10)\"],\n",
    "\"Single hidden layer model 1\": [ 63.1, 63.1],\n",
    "\"Single hiddne layer model 2\": [ 63.1, 63.1],\n",
    "\"Single hidden layer model 3\": [ 63.1, 63.1],\n",
    "\"Single hidden layer model 4\": [ 63.1, 63.1],\n",
    "\"Two hidden layer model 1\": [ 36.8, 10],\n",
    "\"Two hiddne layer model 2\": [ 63.1, 63.1],\n",
    "\"Two hidden layer model 3\": [ 63.1, 36.8],\n",
    "\"Two hidden layer model 4\": [ 63.1, 36.8],\n",
    "}\n",
    "data"
   ]
  },
  {
   "cell_type": "code",
   "execution_count": null,
   "id": "8b028838-3bca-4558-8a49-8949480ae82d",
   "metadata": {},
   "outputs": [],
   "source": []
  }
 ],
 "metadata": {
  "kernelspec": {
   "display_name": "Python 3 (ipykernel)",
   "language": "python",
   "name": "python3"
  },
  "language_info": {
   "codemirror_mode": {
    "name": "ipython",
    "version": 3
   },
   "file_extension": ".py",
   "mimetype": "text/x-python",
   "name": "python",
   "nbconvert_exporter": "python",
   "pygments_lexer": "ipython3",
   "version": "3.8.10"
  }
 },
 "nbformat": 4,
 "nbformat_minor": 5
}
