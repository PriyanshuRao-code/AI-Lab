{
 "cells": [
  {
   "cell_type": "code",
   "execution_count": 1,
   "id": "79b5fb59-9ab8-4b65-95a3-33617192e814",
   "metadata": {},
   "outputs": [],
   "source": [
    "import pandas as pd\n",
    "import numpy as np\n",
    "from sklearn.model_selection import train_test_split"
   ]
  },
  {
   "cell_type": "code",
   "execution_count": 2,
   "id": "a20e4c73-3036-4aa1-851b-0ad4fa4a2ecb",
   "metadata": {},
   "outputs": [],
   "source": [
    "df = pd.read_csv('AirQuality.csv')"
   ]
  },
  {
   "cell_type": "code",
   "execution_count": 3,
   "id": "58e74239-b52d-45fd-97f9-06a9e508767b",
   "metadata": {},
   "outputs": [],
   "source": [
    "train, temp = train_test_split(df, test_size=0.4, random_state=42)\n",
    "valid, test = train_test_split(temp, test_size=0.5, random_state=42)"
   ]
  },
  {
   "cell_type": "code",
   "execution_count": 4,
   "id": "0c6db3da-6d7a-4f7c-b937-9ee9e078ed48",
   "metadata": {},
   "outputs": [
    {
     "data": {
      "text/plain": [
       "Index(['PT08.S1(CO)', 'NMHC(GT)', 'C6H6(GT)', 'PT08.S2(NMHC)', 'NOx(GT)',\n",
       "       'PT08.S3(NOx)', 'NO2(GT)', 'PT08.S4(NO2)', 'PT08.S5(O3)', 'T', 'RH',\n",
       "       'AH', 'CO'],\n",
       "      dtype='object')"
      ]
     },
     "execution_count": 4,
     "metadata": {},
     "output_type": "execute_result"
    }
   ],
   "source": [
    "train.columns"
   ]
  },
  {
   "cell_type": "code",
   "execution_count": 5,
   "id": "bcdbe5c7-dce0-43da-8949-536e04fb6a57",
   "metadata": {},
   "outputs": [],
   "source": [
    "target_col= 'CO'"
   ]
  },
  {
   "cell_type": "code",
   "execution_count": 6,
   "id": "abc5f9fc-0852-426d-870b-5123c8216ab4",
   "metadata": {},
   "outputs": [
    {
     "name": "stdout",
     "output_type": "stream",
     "text": [
      "CO               1.000000\n",
      "C6H6(GT)         0.890565\n",
      "PT08.S2(NMHC)    0.881247\n",
      "PT08.S1(CO)      0.844134\n",
      "PT08.S5(O3)      0.823887\n",
      "NOx(GT)          0.785477\n",
      "NO2(GT)          0.680737\n",
      "PT08.S3(NOx)     0.678907\n",
      "PT08.S4(NO2)     0.610879\n",
      "NMHC(GT)         0.290393\n",
      "AH               0.049628\n",
      "RH               0.032848\n",
      "T                0.031788\n",
      "Name: CO, dtype: float64\n"
     ]
    }
   ],
   "source": [
    "correlation = train.corr()[target_col].abs().sort_values(ascending=False)\n",
    "print(correlation)"
   ]
  },
  {
   "cell_type": "code",
   "execution_count": 7,
   "id": "72a62cff-a50e-48e4-a688-7ccb50bc74d6",
   "metadata": {},
   "outputs": [],
   "source": [
    "top_2_features = correlation.index[1:3].tolist()"
   ]
  },
  {
   "cell_type": "code",
   "execution_count": 8,
   "id": "0146e157-2ea9-42fa-ad7f-79ab7bd3e80c",
   "metadata": {},
   "outputs": [
    {
     "name": "stdout",
     "output_type": "stream",
     "text": [
      "Highly correlated attributes are: \n",
      "['C6H6(GT)', 'PT08.S2(NMHC)']\n"
     ]
    }
   ],
   "source": [
    "print(f\"Highly correlated attributes are: \\n{top_2_features}\")"
   ]
  },
  {
   "cell_type": "code",
   "execution_count": 13,
   "id": "3f919ce5-be1c-4aba-a5b4-c02ae42bfb59",
   "metadata": {},
   "outputs": [],
   "source": [
    "train[top_2_features + ['CO']].to_csv('train_2_features.csv',index=False)\n",
    "test[top_2_features + ['CO']].to_csv('test_2_features.csv',index = False)\n",
    "valid[top_2_features + ['CO']].to_csv('valid_2_features.csv', index=False)"
   ]
  },
  {
   "cell_type": "code",
   "execution_count": 14,
   "id": "fedb92bc-f750-4acb-94ef-f903359c030c",
   "metadata": {},
   "outputs": [],
   "source": [
    "train.to_csv('train.csv',index=False)\n",
    "test.to_csv('test.csv',index = False)\n",
    "valid.to_csv('valid.csv', index=False)"
   ]
  },
  {
   "cell_type": "code",
   "execution_count": null,
   "id": "c4445731-abea-4c19-8830-4ba955ce28ff",
   "metadata": {},
   "outputs": [],
   "source": []
  }
 ],
 "metadata": {
  "kernelspec": {
   "display_name": "Python 3 (ipykernel)",
   "language": "python",
   "name": "python3"
  },
  "language_info": {
   "codemirror_mode": {
    "name": "ipython",
    "version": 3
   },
   "file_extension": ".py",
   "mimetype": "text/x-python",
   "name": "python",
   "nbconvert_exporter": "python",
   "pygments_lexer": "ipython3",
   "version": "3.8.10"
  }
 },
 "nbformat": 4,
 "nbformat_minor": 5
}
