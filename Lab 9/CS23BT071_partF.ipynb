{
 "cells": [
  {
   "cell_type": "code",
   "execution_count": 4,
   "id": "83e5d797-f64e-4b8c-ab4e-be8eb1a96343",
   "metadata": {},
   "outputs": [],
   "source": [
    "import pandas as pd\n",
    "import numpy as np\n",
    "from sklearn.linear_model import LinearRegression\n",
    "from sklearn.metrics import mean_squared_error\n",
    "import matplotlib.pyplot as plt\n",
    "from mpl_toolkits.mplot3d import Axes3D\n",
    "from sklearn . preprocessing import PolynomialFeatures"
   ]
  },
  {
   "cell_type": "code",
   "execution_count": 5,
   "id": "9fbfd138-33fc-431f-935b-5b2b84bee0d1",
   "metadata": {},
   "outputs": [],
   "source": [
    "train = pd.read_csv('train.csv')\n",
    "valid=pd.read_csv('valid.csv')\n",
    "test=pd.read_csv('test.csv')"
   ]
  },
  {
   "cell_type": "code",
   "execution_count": 6,
   "id": "43464221-08e1-466c-a680-f5e95994b43f",
   "metadata": {},
   "outputs": [],
   "source": [
    "# feature1 = train.columns[0]\n",
    "# feature2 = train.columns[1]\n",
    "# target_col = train.columns[2]\n",
    "\n",
    "# print(f\"feature 1 : {feature1}, feature 2: {feature2} and target value/output : {target_col}\")"
   ]
  },
  {
   "cell_type": "code",
   "execution_count": 7,
   "id": "14584f14-114a-4ab1-be0f-b3b0498b880c",
   "metadata": {},
   "outputs": [],
   "source": [
    "# features = train.columns[0:2].tolist()\n",
    "# features"
   ]
  },
  {
   "cell_type": "code",
   "execution_count": 8,
   "id": "599c81fe-57cc-4a3b-bb14-29625407a3db",
   "metadata": {},
   "outputs": [],
   "source": [
    "X_train = train.iloc[:,0:-1]\n",
    "y_train = train.iloc[:,-1]\n",
    "\n",
    "X_valid = valid.iloc[:,0:-1]\n",
    "y_valid = valid.iloc[:,-1]\n",
    "\n",
    "X_test = test.iloc[:,0:-1]\n",
    "y_test = test.iloc[:,-1]"
   ]
  },
  {
   "cell_type": "code",
   "execution_count": 9,
   "id": "05d2c765-5bc9-4843-9db6-04d924ba7962",
   "metadata": {},
   "outputs": [],
   "source": [
    "# Training the model\n",
    "degrees = [2, 3, 4, 5]\n",
    "rmse_train ={}\n",
    "rmse_valid ={}\n",
    "rmse_test ={}\n",
    "\n",
    "y_train_pred ={}\n",
    "y_valid_pred ={}\n",
    "y_test_pred ={}\n",
    "\n",
    "\n",
    "for d in degrees:\n",
    "    poly = PolynomialFeatures(degree=d)\n",
    "    X_train_poly = poly.fit_transform(X_train)\n",
    "    X_valid_poly = poly.transform(X_valid)\n",
    "    X_test_poly = poly.transform(X_test)\n",
    "\n",
    "    model = LinearRegression()\n",
    "    model.fit(X_train_poly,y_train)\n",
    "\n",
    "    y_train_pred[d] = model.predict(X_train_poly)\n",
    "    y_valid_pred[d] = model.predict(X_valid_poly)\n",
    "    y_test_pred[d] = model.predict(X_test_poly)\n",
    "\n",
    "    rmse_train[d] = np.sqrt(mean_squared_error(y_train, y_train_pred[d]))\n",
    "    rmse_valid[d] = np.sqrt(mean_squared_error(y_valid, y_valid_pred[d]))\n",
    "    rmse_test[d] = np.sqrt(mean_squared_error(y_test, y_test_pred[d]))"
   ]
  },
  {
   "cell_type": "code",
   "execution_count": 10,
   "id": "ae6ad882-63e6-40bd-b134-82a75bc305c2",
   "metadata": {},
   "outputs": [
    {
     "name": "stdout",
     "output_type": "stream",
     "text": [
      "For degree: 2\n",
      "RMSE train is: 0.41918615196336206\n",
      "RMSE valid is: 0.4118078297300138\n",
      "RMSE test is: 0.4407726105272322\n",
      "\n",
      "\n",
      "\n",
      "For degree: 3\n",
      "RMSE train is: 0.36419254424833636\n",
      "RMSE valid is: 0.40577911543326617\n",
      "RMSE test is: 0.44672490816850563\n",
      "\n",
      "\n",
      "\n",
      "For degree: 4\n",
      "RMSE train is: 0.3390183203997156\n",
      "RMSE valid is: 35.237738607453316\n",
      "RMSE test is: 4.256668145579916\n",
      "\n",
      "\n",
      "\n",
      "For degree: 5\n",
      "RMSE train is: 0.12446730404987036\n",
      "RMSE valid is: 16276.233078263462\n",
      "RMSE test is: 13404.689806648934\n",
      "\n",
      "\n",
      "\n",
      "Best degree based on validation data:  3\n"
     ]
    }
   ],
   "source": [
    "best_degree = 2\n",
    "for d in degrees:\n",
    "    print(f\"For degree: {d}\")\n",
    "    print(f\"RMSE train is: {rmse_train[d]}\")\n",
    "    print(f\"RMSE valid is: {rmse_valid[d]}\")\n",
    "    print(f\"RMSE test is: {rmse_test[d]}\")\n",
    "    \n",
    "    if rmse_valid[d] < rmse_valid[best_degree]:\n",
    "        best_degree = d\n",
    "    \n",
    "    print(\"\\n\\n\")\n",
    "\n",
    "print(\"Best degree based on validation data: \", best_degree)"
   ]
  },
  {
   "cell_type": "code",
   "execution_count": 11,
   "id": "4d28a4f1-5fd8-4902-b516-f65bfdb026ba",
   "metadata": {},
   "outputs": [
    {
     "name": "stdout",
     "output_type": "stream",
     "text": [
      "RMSE for test data for best degree : 3 is 0.44672490816850563\n"
     ]
    }
   ],
   "source": [
    "poly = PolynomialFeatures(degree=best_degree)\n",
    "X_train_poly = poly.fit_transform(X_train)\n",
    "X_test_poly = poly.transform(X_test)\n",
    "\n",
    "model = LinearRegression()\n",
    "model.fit(X_train_poly,y_train)\n",
    "\n",
    "y_test_pred_best = model.predict(X_test_poly)\n",
    "\n",
    "rmse_test_best = np.sqrt(mean_squared_error(y_test, y_test_pred_best))\n",
    "\n",
    "print(f\"RMSE for test data for best degree : {best_degree} is {rmse_test_best}\")"
   ]
  },
  {
   "cell_type": "code",
   "execution_count": 12,
   "id": "7b8eddd0-3149-4a46-a506-48ebddf8d3cf",
   "metadata": {},
   "outputs": [
    {
     "data": {
      "text/plain": [
       "{2: 0.4118078297300138,\n",
       " 3: 0.40577911543326617,\n",
       " 4: 35.237738607453316,\n",
       " 5: 16276.233078263462}"
      ]
     },
     "execution_count": 12,
     "metadata": {},
     "output_type": "execute_result"
    }
   ],
   "source": [
    "rmse_valid"
   ]
  },
  {
   "cell_type": "code",
   "execution_count": 13,
   "id": "545d8c80-9abe-4b83-abf2-6599bb3315c3",
   "metadata": {},
   "outputs": [
    {
     "data": {
      "image/png": "[encoded data removed]",
      "text/plain": [
       "<Figure size 600x400 with 1 Axes>"
      ]
     },
     "metadata": {},
     "output_type": "display_data"
    },
    {
     "name": "stdout",
     "output_type": "stream",
     "text": [
      "RMSE keys: dict_keys([2, 3, 4, 5]) and RMSE values: dict_values([0.4118078297300138, 0.40577911543326617, 35.237738607453316, 16276.233078263462])\n"
     ]
    }
   ],
   "source": [
    "plt.figure(figsize=(6,4))\n",
    "plt.bar(rmse_valid.keys(), rmse_valid.values())\n",
    "plt.xlabel(\"Degree\")\n",
    "plt.ylabel(\"RMSE\")\n",
    "plt.title(\"Degree vs RMSE for validation data\")\n",
    "plt.show()\n",
    "\n",
    "print(f\"RMSE keys: {rmse_valid.keys()} and RMSE values: {rmse_valid.values()}\")"
   ]
  },
  {
   "cell_type": "code",
   "execution_count": 14,
   "id": "c87229a6-2fe0-4aff-be94-90946d9dcb04",
   "metadata": {},
   "outputs": [
    {
     "data": {
      "image/png": "[encoded data removed]",
      "text/plain": [
       "<Figure size 600x400 with 1 Axes>"
      ]
     },
     "metadata": {},
     "output_type": "display_data"
    }
   ],
   "source": [
    "plt.figure(figsize=(6,4))\n",
    "plt.scatter(y_test, y_test_pred_best, color=\"red\", label=\"Actual vs Predicted\")\n",
    "plt.plot(y_test, y_test, color=\"blue\", label=\"y=x line\")\n",
    "plt.legend()\n",
    "plt.show()"
   ]
  },
  {
   "cell_type": "code",
   "execution_count": 15,
   "id": "ad07e216-6f76-4eaa-a16b-6e41d9c8e62c",
   "metadata": {},
   "outputs": [
    {
     "name": "stdout",
     "output_type": "stream",
     "text": [
      "[[1.00000000e+00 1.28000000e+03 2.28000000e+02 ... 4.08040000e+02\n",
      "  1.43298800e+01 5.03248360e-01]\n",
      " [1.00000000e+00 1.19000000e+03 1.54000000e+02 ... 2.71441000e+03\n",
      "  3.51466600e+01 4.55085160e-01]\n",
      " [1.00000000e+00 1.20200000e+03 1.54000000e+02 ... 6.38401000e+03\n",
      "  1.21871470e+02 2.32654009e+00]\n",
      " ...\n",
      " [1.00000000e+00 8.63000000e+02 6.60000000e+01 ... 1.14921000e+03\n",
      "  2.26553700e+01 4.46624890e-01]\n",
      " [1.00000000e+00 8.97000000e+02 1.54000000e+02 ... 6.40090000e+02\n",
      "  1.42312500e+01 3.16406250e-01]\n",
      " [1.00000000e+00 1.28300000e+03 1.54000000e+02 ... 6.50250000e+02\n",
      "  1.98517500e+01 6.06062250e-01]]\n"
     ]
    }
   ],
   "source": [
    "poly = PolynomialFeatures(degree=2)\n",
    "X_train_poly = poly.fit_transform(X_train)\n",
    "print(X_train_poly)"
   ]
  },
  {
   "cell_type": "code",
   "execution_count": null,
   "id": "c9013e17-a9c8-4c42-9a49-917f02e74238",
   "metadata": {},
   "outputs": [],
   "source": []
  }
 ],
 "metadata": {
  "kernelspec": {
   "display_name": "Python 3 (ipykernel)",
   "language": "python",
   "name": "python3"
  },
  "language_info": {
   "codemirror_mode": {
    "name": "ipython",
    "version": 3
   },
   "file_extension": ".py",
   "mimetype": "text/x-python",
   "name": "python",
   "nbconvert_exporter": "python",
   "pygments_lexer": "ipython3",
   "version": "3.8.10"
  }
 },
 "nbformat": 4,
 "nbformat_minor": 5
}
