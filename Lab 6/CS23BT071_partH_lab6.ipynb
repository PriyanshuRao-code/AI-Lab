{
 "cells": [
  {
   "cell_type": "code",
   "execution_count": 7,
   "id": "e3a12f64-b0cc-4d4f-a7bd-a29d3c2e44b2",
   "metadata": {},
   "outputs": [],
   "source": [
    "import pandas as pd\n",
    "import numpy as np\n",
    "import matplotlib.pyplot as plt\n",
    "from sklearn.metrics import confusion_matrix, accuracy_score, precision_score, recall_score, f1_score\n",
    "from sklearn.svm import SVC"
   ]
  },
  {
   "cell_type": "code",
   "execution_count": 8,
   "id": "056d9c38-3d89-4bef-b4ca-1b655f19d2a6",
   "metadata": {},
   "outputs": [],
   "source": [
    "df_train = pd.read_csv('WDBC_Scaled_Train.csv')\n",
    "df_valid = pd.read_csv('WDBC_Scaled_Validation.csv')\n",
    "df_test = pd.read_csv('WDBC_Scaled_Test.csv')"
   ]
  },
  {
   "cell_type": "code",
   "execution_count": 9,
   "id": "7d6ba62e-d0cf-4845-b8fe-dae4753116fd",
   "metadata": {},
   "outputs": [],
   "source": [
    "X_train = df_train.iloc[:,1:]\n",
    "y_train = df_train.iloc[:,0]\n",
    "\n",
    "X_valid = df_valid.iloc[:,1:]\n",
    "y_valid = df_valid.iloc[:,0]\n",
    "\n",
    "X_test = df_test.iloc[:,1:]\n",
    "y_test = df_test.iloc[:,0]"
   ]
  },
  {
   "cell_type": "code",
   "execution_count": 10,
   "id": "3770c7d2-58bc-44e9-99cd-0dcf80b92beb",
   "metadata": {},
   "outputs": [],
   "source": [
    "poly_svm = SVC(kernel='poly', degree=3, C=1.0, gamma='scale')\n",
    "poly_svm.fit(X_train, y_train)\n",
    "y_test_pred = poly_svm.predict(X_test)\n",
    "y_valid_pred=poly_svm.predict(X_valid)"
   ]
  },
  {
   "cell_type": "code",
   "execution_count": 11,
   "id": "d7c881fc-3de9-4c4f-bf43-fe7f28f40f4c",
   "metadata": {},
   "outputs": [
    {
     "name": "stdout",
     "output_type": "stream",
     "text": [
      "Performance for Validation data:\n",
      "\n",
      "Confusion matrix: \n",
      "[[71  0]\n",
      " [11 32]]\n",
      "Accuracy: \t0.9035087719298246\n",
      "Precision: \t1.0\n",
      "Recall: \t0.7441860465116279\n",
      "F1-score: \t0.8533333333333333\n",
      "\n",
      "\n",
      "Performance for Test data:\n",
      "\n",
      "Confusion matrix: \n",
      "[[72  0]\n",
      " [16 26]]\n",
      "Accuracy: \t0.8596491228070176\n",
      "Precision: \t1.0\n",
      "Recall: \t0.6190476190476191\n",
      "F1-score: \t0.7647058823529412\n",
      "\n",
      "\n"
     ]
    }
   ],
   "source": [
    "def performance(model_name, y_true, y_pred):\n",
    "    print(f\"Performance for {model_name}:\\n\")\n",
    "    print(f\"Confusion matrix: \\n{confusion_matrix(y_true,y_pred)}\")\n",
    "    print(f\"Accuracy: \\t{accuracy_score(y_true, y_pred)}\")\n",
    "    print(f\"Precision: \\t{precision_score(y_true, y_pred)}\")\n",
    "    print(f\"Recall: \\t{recall_score(y_true, y_pred)}\")\n",
    "    print(f\"F1-score: \\t{f1_score(y_true, y_pred)}\\n\\n\")\n",
    "\n",
    "performance(\"Validation data\", y_valid, y_valid_pred)\n",
    "performance(\"Test data\", y_test, y_test_pred)"
   ]
  },
  {
   "cell_type": "code",
   "execution_count": null,
   "id": "f5d30487-5428-4508-857a-2c4e7cf1d5e4",
   "metadata": {},
   "outputs": [],
   "source": []
  }
 ],
 "metadata": {
  "kernelspec": {
   "display_name": "Python 3 (ipykernel)",
   "language": "python",
   "name": "python3"
  },
  "language_info": {
   "codemirror_mode": {
    "name": "ipython",
    "version": 3
   },
   "file_extension": ".py",
   "mimetype": "text/x-python",
   "name": "python",
   "nbconvert_exporter": "python",
   "pygments_lexer": "ipython3",
   "version": "3.8.10"
  }
 },
 "nbformat": 4,
 "nbformat_minor": 5
}
