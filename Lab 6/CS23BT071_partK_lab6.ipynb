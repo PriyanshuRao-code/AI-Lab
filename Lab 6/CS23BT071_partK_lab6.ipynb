{
 "cells": [
  {
   "cell_type": "code",
   "execution_count": 6,
   "id": "e3a12f64-b0cc-4d4f-a7bd-a29d3c2e44b2",
   "metadata": {},
   "outputs": [],
   "source": [
    "import pandas as pd\n",
    "import numpy as np\n",
    "import matplotlib.pyplot as plt\n",
    "from sklearn.metrics import confusion_matrix, accuracy_score, precision_score, recall_score, f1_score\n",
    "from sklearn.svm import SVC"
   ]
  },
  {
   "cell_type": "code",
   "execution_count": 7,
   "id": "056d9c38-3d89-4bef-b4ca-1b655f19d2a6",
   "metadata": {},
   "outputs": [],
   "source": [
    "df_train = pd.read_csv('WDBC_PCA10_Train.csv')\n",
    "df_valid = pd.read_csv('WDBC_PCA10_Validation.csv')\n",
    "df_test = pd.read_csv('WDBC_PCA10_Test.csv')"
   ]
  },
  {
   "cell_type": "code",
   "execution_count": 8,
   "id": "7d6ba62e-d0cf-4845-b8fe-dae4753116fd",
   "metadata": {},
   "outputs": [],
   "source": [
    "X_train = df_train.iloc[:,1:]\n",
    "y_train = df_train.iloc[:,0]\n",
    "\n",
    "X_valid = df_valid.iloc[:,1:]\n",
    "y_valid = df_valid.iloc[:,0]\n",
    "\n",
    "X_test = df_test.iloc[:,1:]\n",
    "y_test = df_test.iloc[:,0]"
   ]
  },
  {
   "cell_type": "code",
   "execution_count": 9,
   "id": "3770c7d2-58bc-44e9-99cd-0dcf80b92beb",
   "metadata": {},
   "outputs": [],
   "source": [
    "rbf_svm = SVC(kernel='rbf', C=1.0, gamma='scale')\n",
    "rbf_svm.fit(X_train, y_train)\n",
    "y_test_pred = rbf_svm.predict(X_test)\n",
    "y_valid_pred=rbf_svm.predict(X_valid)"
   ]
  },
  {
   "cell_type": "code",
   "execution_count": 10,
   "id": "d7c881fc-3de9-4c4f-bf43-fe7f28f40f4c",
   "metadata": {},
   "outputs": [
    {
     "name": "stdout",
     "output_type": "stream",
     "text": [
      "Performance for Validation data:\n",
      "\n",
      "Confusion matrix: \n",
      "[[70  1]\n",
      " [12 31]]\n",
      "Accuracy: \t0.8859649122807017\n",
      "Precision: \t0.96875\n",
      "Recall: \t0.7209302325581395\n",
      "F1-score: \t0.8266666666666667\n",
      "\n",
      "\n",
      "Performance for Test data:\n",
      "\n",
      "Confusion matrix: \n",
      "[[71  1]\n",
      " [ 6 36]]\n",
      "Accuracy: \t0.9385964912280702\n",
      "Precision: \t0.972972972972973\n",
      "Recall: \t0.8571428571428571\n",
      "F1-score: \t0.9113924050632912\n",
      "\n",
      "\n"
     ]
    }
   ],
   "source": [
    "def performance(model_name, y_true, y_pred):\n",
    "    print(f\"Performance for {model_name}:\\n\")\n",
    "    print(f\"Confusion matrix: \\n{confusion_matrix(y_true,y_pred)}\")\n",
    "    print(f\"Accuracy: \\t{accuracy_score(y_true, y_pred)}\")\n",
    "    print(f\"Precision: \\t{precision_score(y_true, y_pred)}\")\n",
    "    print(f\"Recall: \\t{recall_score(y_true, y_pred)}\")\n",
    "    print(f\"F1-score: \\t{f1_score(y_true, y_pred)}\\n\\n\")\n",
    "\n",
    "performance(\"Validation data\", y_valid, y_valid_pred)\n",
    "performance(\"Test data\", y_test, y_test_pred)"
   ]
  },
  {
   "cell_type": "code",
   "execution_count": null,
   "id": "f5d30487-5428-4508-857a-2c4e7cf1d5e4",
   "metadata": {},
   "outputs": [],
   "source": []
  }
 ],
 "metadata": {
  "kernelspec": {
   "display_name": "Python 3 (ipykernel)",
   "language": "python",
   "name": "python3"
  },
  "language_info": {
   "codemirror_mode": {
    "name": "ipython",
    "version": 3
   },
   "file_extension": ".py",
   "mimetype": "text/x-python",
   "name": "python",
   "nbconvert_exporter": "python",
   "pygments_lexer": "ipython3",
   "version": "3.8.10"
  }
 },
 "nbformat": 4,
 "nbformat_minor": 5
}
