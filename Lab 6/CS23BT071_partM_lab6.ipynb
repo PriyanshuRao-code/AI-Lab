{
 "cells": [
  {
   "cell_type": "code",
   "execution_count": 23,
   "id": "e101d689-c762-408f-9ccf-8893b9425e66",
   "metadata": {},
   "outputs": [],
   "source": [
    "import pandas as pd"
   ]
  },
  {
   "cell_type": "code",
   "execution_count": 26,
   "id": "d3fe44f2-4873-4682-a8a9-80b20bb7934f",
   "metadata": {},
   "outputs": [
    {
     "name": "stdout",
     "output_type": "stream",
     "text": [
      "Validation Data \n",
      "\n",
      "\n",
      "Test Accuracy Comparison in(%)\n",
      "              Logisistic Regression  SVM Linear  SVM Gaussian  SVM Polynomial\n",
      "Dataset                                                                      \n",
      "Original                      94.73       97.36         85.08           86.84\n",
      "Standardized                  97.36       96.49         99.12           90.35\n",
      "PCA (l=10)                    96.49       96.49         88.59           82.45\n"
     ]
    }
   ],
   "source": [
    "print(\"Validation Data \\n\\n\")\n",
    "data = {\n",
    "\"Dataset\": [\"Original\", \"Standardized\", \"PCA (l=10)\"],\n",
    "\"Logisistic Regression\": [94.73, 97.36, 96.49],\n",
    "\"SVM Linear\": [97.36, 96.49, 96.49],\n",
    "\"SVM Gaussian\": [85.08,99.12, 88.59],\n",
    "\"SVM Polynomial\": [86.84, 90.35, 82.45]\n",
    "}\n",
    "# Create DataFrame\n",
    "df = pd.DataFrame(data)\n",
    "df.set_index(\"Dataset\", inplace=True)\n",
    "# Print DataFrame\n",
    "print(f\"Test Accuracy Comparison in(%)\\n{df}\")"
   ]
  },
  {
   "cell_type": "code",
   "execution_count": 27,
   "id": "b05251b3-b32a-462a-b3c8-3440dcfe8820",
   "metadata": {},
   "outputs": [
    {
     "name": "stdout",
     "output_type": "stream",
     "text": [
      "Test Data \n",
      "\n",
      "\n",
      "Test Accuracy Comparison in(%)\n",
      "              Logisistic Regression  SVM Linear  SVM Gaussian  SVM Polynomial\n",
      "Dataset                                                                      \n",
      "Original                      94.73       95.61         92.98           92.98\n",
      "Standardized                  98.24       97.36         97.36           85.96\n",
      "PCA (l=10)                    94.73       93.85         93.85           84.21\n"
     ]
    }
   ],
   "source": [
    "print(\"Test Data \\n\\n\")\n",
    "data = {\n",
    "\"Dataset\": [\"Original\", \"Standardized\", \"PCA (l=10)\"],\n",
    "\"Logisistic Regression\": [94.73, 98.24, 94.73],\n",
    "\"SVM Linear\": [95.61, 97.36, 93.85],\n",
    "\"SVM Gaussian\": [92.98,97.36, 93.85],\n",
    "\"SVM Polynomial\": [92.98, 85.96, 84.21]\n",
    "}\n",
    "# Create DataFrame\n",
    "df = pd.DataFrame(data)\n",
    "df.set_index(\"Dataset\", inplace=True)\n",
    "# Print DataFrame\n",
    "print(f\"Test Accuracy Comparison in(%)\\n{df}\")"
   ]
  },
  {
   "cell_type": "code",
   "execution_count": null,
   "id": "a5a28e3e-762b-41a6-abf3-1c601d8ba877",
   "metadata": {},
   "outputs": [],
   "source": []
  }
 ],
 "metadata": {
  "kernelspec": {
   "display_name": "Python 3 (ipykernel)",
   "language": "python",
   "name": "python3"
  },
  "language_info": {
   "codemirror_mode": {
    "name": "ipython",
    "version": 3
   },
   "file_extension": ".py",
   "mimetype": "text/x-python",
   "name": "python",
   "nbconvert_exporter": "python",
   "pygments_lexer": "ipython3",
   "version": "3.8.10"
  }
 },
 "nbformat": 4,
 "nbformat_minor": 5
}
