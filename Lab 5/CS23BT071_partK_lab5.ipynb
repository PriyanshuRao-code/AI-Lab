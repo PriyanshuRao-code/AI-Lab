{
 "cells": [
  {
   "cell_type": "code",
   "execution_count": 4,
   "id": "a3280277-18d8-41bb-b99f-0b4b54f6318e",
   "metadata": {},
   "outputs": [],
   "source": [
    "import pandas as pd"
   ]
  },
  {
   "cell_type": "code",
   "execution_count": 10,
   "id": "d52c168f-3706-4661-ba96-946ccfa05e90",
   "metadata": {},
   "outputs": [
    {
     "name": "stdout",
     "output_type": "stream",
     "text": [
      "Validation data\n",
      "\n",
      "\n",
      "Test Accuracy Comparison\n",
      "                KNN Bayes Classifier Naive Bayes Classifier\n",
      "Dataset                                                    \n",
      "Original      92.98            91.22                  96.49\n",
      "Standardized  97.36             <NA>                   <NA>\n",
      "PCA (l=2)     92.98            90.35                  88.59\n",
      "PCA (l=10)    92.98            96.49                  90.35\n"
     ]
    }
   ],
   "source": [
    "print(\"Validation data\\n\\n\")\n",
    "data = {\n",
    "\"Dataset\": [\"Original\", \"Standardized\", \"PCA (l=2)\", \"PCA (l=10)\"],\n",
    "\"KNN\": [92.98, 97.36, 92.98, 92.98],\n",
    "\"Bayes Classifier\": [91.22, pd.NA, 90.35, 96.49],\n",
    "\"Naive Bayes Classifier\": [96.49, pd.NA, 88.59, 90.35]\n",
    "}\n",
    "# Create DataFrame\n",
    "df = pd.DataFrame(data)\n",
    "df.set_index(\"Dataset\", inplace=True)\n",
    "# Print DataFrame\n",
    "print(f\"Test Accuracy Comparison\\n{df}\")"
   ]
  },
  {
   "cell_type": "code",
   "execution_count": 12,
   "id": "7c58da21-0b84-4997-add8-5abc8bf54003",
   "metadata": {},
   "outputs": [
    {
     "name": "stdout",
     "output_type": "stream",
     "text": [
      "Test data\n",
      "\n",
      "\n",
      "Test Accuracy Comparison\n",
      "                KNN Bayes Classifier Naive Bayes Classifier\n",
      "Dataset                                                    \n",
      "Original      93.85            90.35                  95.61\n",
      "Standardized  97.36             <NA>                   <NA>\n",
      "PCA (l=2)     93.85             92.1                  89.47\n",
      "PCA (l=10)    93.85            95.61                  87.71\n"
     ]
    }
   ],
   "source": [
    "print(\"Test data\\n\\n\")\n",
    "data = {\n",
    "\"Dataset\": [\"Original\", \"Standardized\", \"PCA (l=2)\", \"PCA (l=10)\"],\n",
    "\"KNN\": [93.85, 97.36, 93.85, 93.85],\n",
    "\"Bayes Classifier\": [90.35, pd.NA, 92.10, 95.61],\n",
    "\"Naive Bayes Classifier\": [95.61, pd.NA, 89.47, 87.71]\n",
    "}\n",
    "# Create DataFrame\n",
    "df = pd.DataFrame(data)\n",
    "df.set_index(\"Dataset\", inplace=True)\n",
    "# Print DataFrame\n",
    "print(f\"Test Accuracy Comparison\\n{df}\")"
   ]
  },
  {
   "cell_type": "code",
   "execution_count": null,
   "id": "e1a700ce-75bf-421e-896e-7263b8893430",
   "metadata": {},
   "outputs": [],
   "source": []
  }
 ],
 "metadata": {
  "kernelspec": {
   "display_name": "Python 3 (ipykernel)",
   "language": "python",
   "name": "python3"
  },
  "language_info": {
   "codemirror_mode": {
    "name": "ipython",
    "version": 3
   },
   "file_extension": ".py",
   "mimetype": "text/x-python",
   "name": "python",
   "nbconvert_exporter": "python",
   "pygments_lexer": "ipython3",
   "version": "3.8.10"
  }
 },
 "nbformat": 4,
 "nbformat_minor": 5
}
