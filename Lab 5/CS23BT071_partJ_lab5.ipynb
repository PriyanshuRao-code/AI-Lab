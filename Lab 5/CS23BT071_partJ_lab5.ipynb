{
 "cells": [
  {
   "cell_type": "code",
   "execution_count": 1,
   "id": "c467eb41-32a6-4bd1-b027-9a24d7c2cff0",
   "metadata": {},
   "outputs": [],
   "source": [
    "import pandas as pd\n",
    "import numpy as np\n",
    "from scipy.stats import multivariate_normal\n",
    "from sklearn.neighbors import KNeighborsClassifier\n",
    "from sklearn.naive_bayes import GaussianNB\n",
    "from sklearn.metrics import confusion_matrix, accuracy_score, precision_score, recall_score, f1_score"
   ]
  },
  {
   "cell_type": "code",
   "execution_count": 2,
   "id": "feeeb626-0be1-46a5-87b1-117e6dd3e2c1",
   "metadata": {},
   "outputs": [],
   "source": [
    "train = pd.read_csv('WDBC_PCA10_Train.csv')\n",
    "valid = pd.read_csv('WDBC_PCA10_Validation.csv')\n",
    "test = pd.read_csv('WDBC_PCA10_Test.csv')"
   ]
  },
  {
   "cell_type": "code",
   "execution_count": 3,
   "id": "ad87c2c6-3783-4c9f-830d-376f7323bd1f",
   "metadata": {},
   "outputs": [],
   "source": [
    "X_train, y_train = train.iloc[:, 1:], train.iloc[:, 0]\n",
    "X_valid, y_valid = valid.iloc[:, 1:], valid.iloc[:, 0]\n",
    "X_test, y_test = test.iloc[:, 1:], test.iloc[:, 0]"
   ]
  },
  {
   "cell_type": "code",
   "execution_count": 4,
   "id": "cc37161f-587a-47bd-ac01-0174643635ff",
   "metadata": {},
   "outputs": [],
   "source": [
    "gauss = GaussianNB()\n",
    "gauss.fit(X_train, y_train)\n",
    "\n",
    "y_valid_pred= gauss.predict(X_valid)\n",
    "y_test_pred = gauss.predict(X_test)"
   ]
  },
  {
   "cell_type": "code",
   "execution_count": 5,
   "id": "53a87e2f-8d28-4edb-8461-4911f0f40325",
   "metadata": {},
   "outputs": [
    {
     "name": "stdout",
     "output_type": "stream",
     "text": [
      "Performance for Validation data:\n",
      "\n",
      "Confusion matrix: \n",
      "[[67  4]\n",
      " [ 7 36]]\n",
      "Accuracy: \t0.9035087719298246\n",
      "Precision: \t0.9\n",
      "Recall: \t0.8372093023255814\n",
      "F1-score: \t0.8674698795180723\n",
      "\n",
      "\n",
      "Performance for Test data:\n",
      "\n",
      "Confusion matrix: \n",
      "[[66  6]\n",
      " [ 8 34]]\n",
      "Accuracy: \t0.8771929824561403\n",
      "Precision: \t0.85\n",
      "Recall: \t0.8095238095238095\n",
      "F1-score: \t0.8292682926829269\n",
      "\n",
      "\n"
     ]
    }
   ],
   "source": [
    "def performance(model_name, y_true, y_pred):\n",
    "    print(f\"Performance for {model_name}:\\n\")\n",
    "    print(f\"Confusion matrix: \\n{confusion_matrix(y_true,y_pred)}\")\n",
    "    print(f\"Accuracy: \\t{accuracy_score(y_true, y_pred)}\")\n",
    "    print(f\"Precision: \\t{precision_score(y_true, y_pred)}\")\n",
    "    print(f\"Recall: \\t{recall_score(y_true, y_pred)}\")\n",
    "    print(f\"F1-score: \\t{f1_score(y_true, y_pred)}\\n\\n\")\n",
    "\n",
    "performance(\"Validation data\", y_valid, y_valid_pred)\n",
    "performance(\"Test data\", y_test, y_test_pred)"
   ]
  },
  {
   "cell_type": "code",
   "execution_count": null,
   "id": "3a49f036-ca4c-45ed-b8cd-719c03d55bfc",
   "metadata": {},
   "outputs": [],
   "source": []
  }
 ],
 "metadata": {
  "kernelspec": {
   "display_name": "Python 3 (ipykernel)",
   "language": "python",
   "name": "python3"
  },
  "language_info": {
   "codemirror_mode": {
    "name": "ipython",
    "version": 3
   },
   "file_extension": ".py",
   "mimetype": "text/x-python",
   "name": "python",
   "nbconvert_exporter": "python",
   "pygments_lexer": "ipython3",
   "version": "3.8.10"
  }
 },
 "nbformat": 4,
 "nbformat_minor": 5
}
