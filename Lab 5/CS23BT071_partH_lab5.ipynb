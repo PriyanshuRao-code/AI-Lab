{
 "cells": [
  {
   "cell_type": "code",
   "execution_count": 1,
   "id": "c312e518-454a-46e2-bb7b-d21285e39520",
   "metadata": {},
   "outputs": [],
   "source": [
    "import pandas as pd\n",
    "import numpy as np\n",
    "from scipy.stats import multivariate_normal\n",
    "from sklearn.neighbors import KNeighborsClassifier\n",
    "from sklearn.naive_bayes import GaussianNB\n",
    "from sklearn.metrics import confusion_matrix, accuracy_score, precision_score, recall_score, f1_score"
   ]
  },
  {
   "cell_type": "code",
   "execution_count": 7,
   "id": "ce474cd0-85d9-4e9a-a42d-4d4cf4ae16ae",
   "metadata": {},
   "outputs": [],
   "source": [
    "train = pd.read_csv('WDBC_PCA10_Train.csv')\n",
    "valid = pd.read_csv('WDBC_PCA10_Validation.csv')\n",
    "test = pd.read_csv('WDBC_PCA10_Test.csv')"
   ]
  },
  {
   "cell_type": "code",
   "execution_count": 8,
   "id": "435e1da4-536c-4cf3-81c7-c513e6245e88",
   "metadata": {},
   "outputs": [],
   "source": [
    "X_train, y_train = train.iloc[:, 1:], train.iloc[:, 0]\n",
    "X_valid, y_valid = valid.iloc[:, 1:], valid.iloc[:, 0]\n",
    "X_test, y_test = test.iloc[:, 1:], test.iloc[:, 0]"
   ]
  },
  {
   "cell_type": "code",
   "execution_count": 9,
   "id": "450a04e7-ee17-401e-a03f-4f751ce44730",
   "metadata": {},
   "outputs": [],
   "source": [
    "knn = KNeighborsClassifier(n_neighbors=7)\n",
    "knn.fit(X_train, y_train)\n",
    "\n",
    "y_valid_pred= knn.predict(X_valid)\n",
    "y_test_pred = knn.predict(X_test)"
   ]
  },
  {
   "cell_type": "code",
   "execution_count": 10,
   "id": "688ade1c-f9de-47a7-ba80-b2657e2accf6",
   "metadata": {},
   "outputs": [
    {
     "name": "stdout",
     "output_type": "stream",
     "text": [
      "Performance for Validation data:\n",
      "\n",
      "Confusion matrix: \n",
      "[[69  2]\n",
      " [ 6 37]]\n",
      "Accuracy: \t0.9298245614035088\n",
      "Precision: \t0.9487179487179487\n",
      "Recall: \t0.8604651162790697\n",
      "F1-score: \t0.9024390243902439\n",
      "\n",
      "\n",
      "Performance for Test data:\n",
      "\n",
      "Confusion matrix: \n",
      "[[69  3]\n",
      " [ 4 38]]\n",
      "Accuracy: \t0.9385964912280702\n",
      "Precision: \t0.926829268292683\n",
      "Recall: \t0.9047619047619048\n",
      "F1-score: \t0.9156626506024096\n",
      "\n",
      "\n"
     ]
    }
   ],
   "source": [
    "def performance(model_name, y_true, y_pred):\n",
    "    print(f\"Performance for {model_name}:\\n\")\n",
    "    print(f\"Confusion matrix: \\n{confusion_matrix(y_true,y_pred)}\")\n",
    "    print(f\"Accuracy: \\t{accuracy_score(y_true, y_pred)}\")\n",
    "    print(f\"Precision: \\t{precision_score(y_true, y_pred)}\")\n",
    "    print(f\"Recall: \\t{recall_score(y_true, y_pred)}\")\n",
    "    print(f\"F1-score: \\t{f1_score(y_true, y_pred)}\\n\\n\")\n",
    "\n",
    "performance(\"Validation data\", y_valid, y_valid_pred)\n",
    "performance(\"Test data\", y_test, y_test_pred)"
   ]
  },
  {
   "cell_type": "code",
   "execution_count": null,
   "id": "a2f6a664-d8ed-4a1d-a337-b22b3ea34fd2",
   "metadata": {},
   "outputs": [],
   "source": []
  }
 ],
 "metadata": {
  "kernelspec": {
   "display_name": "Python 3 (ipykernel)",
   "language": "python",
   "name": "python3"
  },
  "language_info": {
   "codemirror_mode": {
    "name": "ipython",
    "version": 3
   },
   "file_extension": ".py",
   "mimetype": "text/x-python",
   "name": "python",
   "nbconvert_exporter": "python",
   "pygments_lexer": "ipython3",
   "version": "3.8.10"
  }
 },
 "nbformat": 4,
 "nbformat_minor": 5
}
