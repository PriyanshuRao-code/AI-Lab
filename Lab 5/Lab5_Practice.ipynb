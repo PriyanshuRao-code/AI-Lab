{
 "cells": [
  {
   "cell_type": "markdown",
   "metadata": {},
   "source": [
    "### Perform the Classification using KNN , Bayes Classifier, and Naive Bayes Classifier"
   ]
  },
  {
   "cell_type": "markdown",
   "metadata": {},
   "source": [
    "## Import libraries"
   ]
  },
  {
   "cell_type": "code",
   "execution_count": 2,
   "metadata": {},
   "outputs": [],
   "source": [
    "import pandas as pd\n",
    "import numpy as np\n",
    "from scipy.stats import multivariate_normal\n",
    "from sklearn.neighbors import KNeighborsClassifier\n",
    "from sklearn.naive_bayes import GaussianNB\n",
    "from sklearn.metrics import confusion_matrix, accuracy_score, precision_score, recall_score, f1_score\n"
   ]
  },
  {
   "cell_type": "markdown",
   "metadata": {},
   "source": [
    "## Step 1: Load Train, Validation, and Test Data"
   ]
  },
  {
   "cell_type": "code",
   "execution_count": 3,
   "metadata": {},
   "outputs": [
    {
     "data": {
      "text/html": [
       "<div>\n",
       "<style scoped>\n",
       "    .dataframe tbody tr th:only-of-type {\n",
       "        vertical-align: middle;\n",
       "    }\n",
       "\n",
       "    .dataframe tbody tr th {\n",
       "        vertical-align: top;\n",
       "    }\n",
       "\n",
       "    .dataframe thead th {\n",
       "        text-align: right;\n",
       "    }\n",
       "</style>\n",
       "<table border=\"1\" class=\"dataframe\">\n",
       "  <thead>\n",
       "    <tr style=\"text-align: right;\">\n",
       "      <th></th>\n",
       "      <th>quality_assessment</th>\n",
       "      <th>Pre-screening</th>\n",
       "      <th>MA_detection_Confidence0.5</th>\n",
       "      <th>MA_detection_Confidence0.6</th>\n",
       "      <th>MA_detection_Confidence0.7</th>\n",
       "      <th>MA_detection_Confidence0.8</th>\n",
       "      <th>MA_detection_Confidence0.9</th>\n",
       "      <th>MA_detection_Confidence1.0</th>\n",
       "      <th>Exudates_Confidence0.3</th>\n",
       "      <th>Exudates_Confidence0.4</th>\n",
       "      <th>Exudates_Confidence0.5</th>\n",
       "      <th>Exudates_Confidence0.6</th>\n",
       "      <th>Exudates_Confidence0.7</th>\n",
       "      <th>Exudates_Confidence0.8</th>\n",
       "      <th>Exudates_Confidence0.9</th>\n",
       "      <th>Exudates_Confidence1.0</th>\n",
       "      <th>Distance_Between_macula_and_optic_disk</th>\n",
       "      <th>Diameter_optic_disc</th>\n",
       "      <th>AM/FM</th>\n",
       "      <th>Class</th>\n",
       "    </tr>\n",
       "  </thead>\n",
       "  <tbody>\n",
       "    <tr>\n",
       "      <th>0</th>\n",
       "      <td>1</td>\n",
       "      <td>1</td>\n",
       "      <td>29</td>\n",
       "      <td>29</td>\n",
       "      <td>28</td>\n",
       "      <td>26</td>\n",
       "      <td>24</td>\n",
       "      <td>18</td>\n",
       "      <td>189.752152</td>\n",
       "      <td>46.437986</td>\n",
       "      <td>22.668862</td>\n",
       "      <td>4.696562</td>\n",
       "      <td>0.730099</td>\n",
       "      <td>0.287336</td>\n",
       "      <td>0.106345</td>\n",
       "      <td>0.068511</td>\n",
       "      <td>0.494069</td>\n",
       "      <td>0.121683</td>\n",
       "      <td>1</td>\n",
       "      <td>1</td>\n",
       "    </tr>\n",
       "    <tr>\n",
       "      <th>1</th>\n",
       "      <td>1</td>\n",
       "      <td>1</td>\n",
       "      <td>73</td>\n",
       "      <td>70</td>\n",
       "      <td>61</td>\n",
       "      <td>51</td>\n",
       "      <td>40</td>\n",
       "      <td>24</td>\n",
       "      <td>286.341351</td>\n",
       "      <td>49.691422</td>\n",
       "      <td>27.729469</td>\n",
       "      <td>5.687412</td>\n",
       "      <td>1.987205</td>\n",
       "      <td>0.517598</td>\n",
       "      <td>0.054430</td>\n",
       "      <td>0.007189</td>\n",
       "      <td>0.530448</td>\n",
       "      <td>0.119130</td>\n",
       "      <td>0</td>\n",
       "      <td>1</td>\n",
       "    </tr>\n",
       "    <tr>\n",
       "      <th>2</th>\n",
       "      <td>1</td>\n",
       "      <td>1</td>\n",
       "      <td>26</td>\n",
       "      <td>26</td>\n",
       "      <td>26</td>\n",
       "      <td>25</td>\n",
       "      <td>23</td>\n",
       "      <td>19</td>\n",
       "      <td>18.197432</td>\n",
       "      <td>8.463779</td>\n",
       "      <td>0.347027</td>\n",
       "      <td>0.007678</td>\n",
       "      <td>0.000000</td>\n",
       "      <td>0.000000</td>\n",
       "      <td>0.000000</td>\n",
       "      <td>0.000000</td>\n",
       "      <td>0.514848</td>\n",
       "      <td>0.110557</td>\n",
       "      <td>0</td>\n",
       "      <td>0</td>\n",
       "    </tr>\n",
       "    <tr>\n",
       "      <th>3</th>\n",
       "      <td>1</td>\n",
       "      <td>0</td>\n",
       "      <td>75</td>\n",
       "      <td>67</td>\n",
       "      <td>56</td>\n",
       "      <td>43</td>\n",
       "      <td>33</td>\n",
       "      <td>24</td>\n",
       "      <td>24.609135</td>\n",
       "      <td>10.657996</td>\n",
       "      <td>3.456785</td>\n",
       "      <td>2.159855</td>\n",
       "      <td>1.668933</td>\n",
       "      <td>1.252208</td>\n",
       "      <td>0.814138</td>\n",
       "      <td>0.294757</td>\n",
       "      <td>0.515086</td>\n",
       "      <td>0.087411</td>\n",
       "      <td>0</td>\n",
       "      <td>1</td>\n",
       "    </tr>\n",
       "    <tr>\n",
       "      <th>4</th>\n",
       "      <td>1</td>\n",
       "      <td>1</td>\n",
       "      <td>21</td>\n",
       "      <td>20</td>\n",
       "      <td>19</td>\n",
       "      <td>17</td>\n",
       "      <td>13</td>\n",
       "      <td>6</td>\n",
       "      <td>27.481596</td>\n",
       "      <td>5.579173</td>\n",
       "      <td>1.984350</td>\n",
       "      <td>1.110242</td>\n",
       "      <td>0.653510</td>\n",
       "      <td>0.508516</td>\n",
       "      <td>0.238205</td>\n",
       "      <td>0.053855</td>\n",
       "      <td>0.519491</td>\n",
       "      <td>0.109781</td>\n",
       "      <td>0</td>\n",
       "      <td>1</td>\n",
       "    </tr>\n",
       "  </tbody>\n",
       "</table>\n",
       "</div>"
      ],
      "text/plain": [
       "   quality_assessment  Pre-screening  MA_detection_Confidence0.5  \\\n",
       "0                   1              1                          29   \n",
       "1                   1              1                          73   \n",
       "2                   1              1                          26   \n",
       "3                   1              0                          75   \n",
       "4                   1              1                          21   \n",
       "\n",
       "   MA_detection_Confidence0.6  MA_detection_Confidence0.7  \\\n",
       "0                          29                          28   \n",
       "1                          70                          61   \n",
       "2                          26                          26   \n",
       "3                          67                          56   \n",
       "4                          20                          19   \n",
       "\n",
       "   MA_detection_Confidence0.8  MA_detection_Confidence0.9  \\\n",
       "0                          26                          24   \n",
       "1                          51                          40   \n",
       "2                          25                          23   \n",
       "3                          43                          33   \n",
       "4                          17                          13   \n",
       "\n",
       "   MA_detection_Confidence1.0  Exudates_Confidence0.3  Exudates_Confidence0.4  \\\n",
       "0                          18              189.752152               46.437986   \n",
       "1                          24              286.341351               49.691422   \n",
       "2                          19               18.197432                8.463779   \n",
       "3                          24               24.609135               10.657996   \n",
       "4                           6               27.481596                5.579173   \n",
       "\n",
       "   Exudates_Confidence0.5  Exudates_Confidence0.6  Exudates_Confidence0.7  \\\n",
       "0               22.668862                4.696562                0.730099   \n",
       "1               27.729469                5.687412                1.987205   \n",
       "2                0.347027                0.007678                0.000000   \n",
       "3                3.456785                2.159855                1.668933   \n",
       "4                1.984350                1.110242                0.653510   \n",
       "\n",
       "   Exudates_Confidence0.8  Exudates_Confidence0.9  Exudates_Confidence1.0  \\\n",
       "0                0.287336                0.106345                0.068511   \n",
       "1                0.517598                0.054430                0.007189   \n",
       "2                0.000000                0.000000                0.000000   \n",
       "3                1.252208                0.814138                0.294757   \n",
       "4                0.508516                0.238205                0.053855   \n",
       "\n",
       "   Distance_Between_macula_and_optic_disk   Diameter_optic_disc  AM/FM  Class  \n",
       "0                                 0.494069             0.121683      1      1  \n",
       "1                                 0.530448             0.119130      0      1  \n",
       "2                                 0.514848             0.110557      0      0  \n",
       "3                                 0.515086             0.087411      0      1  \n",
       "4                                 0.519491             0.109781      0      1  "
      ]
     },
     "execution_count": 3,
     "metadata": {},
     "output_type": "execute_result"
    }
   ],
   "source": [
    "# Load datasets\n",
    "train_df = pd.read_csv('DiabeticRetinopathy_train.csv')\n",
    "valid_df = pd.read_csv('DiabeticRetinopathy_validation.csv')\n",
    "test_df = pd.read_csv('DiabeticRetinopathy_test.csv')\n",
    "\n",
    "# Display first few rows of train data\n",
    "train_df.head()"
   ]
  },
  {
   "cell_type": "markdown",
   "metadata": {},
   "source": [
    "## Step 2: Prepare Input Feature Vectors and Target Labels"
   ]
  },
  {
   "cell_type": "code",
   "execution_count": 4,
   "metadata": {},
   "outputs": [
    {
     "name": "stdout",
     "output_type": "stream",
     "text": [
      "Train shape: (690, 19)\n",
      "Validation shape: (230, 19)\n",
      "Test shape: (231, 19)\n"
     ]
    }
   ],
   "source": [
    "# Separate features and target labels\n",
    "X_train, y_train = train_df.iloc[:, :-1], train_df.iloc[:, -1]\n",
    "X_valid, y_valid = valid_df.iloc[:, :-1], valid_df.iloc[:, -1]\n",
    "X_test, y_test = test_df.iloc[:, :-1], test_df.iloc[:, -1]\n",
    "\n",
    "# Print dataset shapes\n",
    "print('Train shape:', X_train.shape)\n",
    "print('Validation shape:', X_valid.shape)\n",
    "print('Test shape:', X_test.shape)"
   ]
  },
  {
   "cell_type": "markdown",
   "metadata": {},
   "source": [
    "## Step 3: K-Nearest Neighbors (KNN) Classification (K=7)"
   ]
  },
  {
   "cell_type": "code",
   "execution_count": 5,
   "metadata": {},
   "outputs": [
    {
     "name": "stdout",
     "output_type": "stream",
     "text": [
      "KNN Accuracy on Validation: 0.6217391304347826\n",
      "KNN Accuracy on Test: 0.645021645021645\n"
     ]
    }
   ],
   "source": [
    "# Train KNN model\n",
    "knn = KNeighborsClassifier(n_neighbors=7)\n",
    "knn.fit(X_train, y_train)\n",
    "\n",
    "# Predict on validation and test data\n",
    "y_valid_pred = knn.predict(X_valid)\n",
    "y_test_pred = knn.predict(X_test)\n",
    "\n",
    "# Print performance metrics\n",
    "print('KNN Accuracy on Validation:', accuracy_score(y_valid, y_valid_pred))\n",
    "print('KNN Accuracy on Test:', accuracy_score(y_test, y_test_pred))"
   ]
  },
  {
   "cell_type": "markdown",
   "metadata": {},
   "source": [
    "## Step 4: Bayes Classifier Implementation Steps"
   ]
  },
  {
   "cell_type": "markdown",
   "metadata": {},
   "source": [
    "### Compute mean and covariance per class\n",
    "### Computer Prior probability per class\n",
    "### Find likelihood, used allow_singular=True (in case you got any a singular covariance matrix), x is the features from validation or test\n",
    "likelihood = multivariate_normal(mean=classwise_Mean, cov=classwise_CovarianceMatrix, allow_singular=True).pdf(x)\n",
    "### Find posterior probability\n",
    "posterior = likelihood * prior\n",
    "### Get the prediction label, for which class posterior is maximum\n"
   ]
  },
  {
   "cell_type": "markdown",
   "metadata": {},
   "source": [
    "## Step 5: Naive Bayes Classification (Using GaussianNB)"
   ]
  },
  {
   "cell_type": "code",
   "execution_count": 7,
   "metadata": {},
   "outputs": [],
   "source": [
    "# Train Naive Bayes model\n",
    "nb = GaussianNB()\n",
    "nb.fit(X_train, y_train)\n",
    "\n",
    "# Predict\n",
    "y_test_pred_nb = nb.predict(X_test)\n"
   ]
  },
  {
   "cell_type": "markdown",
   "metadata": {},
   "source": [
    "## Step 6: Performance Metrics Evaluation"
   ]
  },
  {
   "cell_type": "markdown",
   "metadata": {},
   "source": [
    "### Find covariance matrix, accuracy, precision, recall, and f1-score for validation and test data for all classification algorithms."
   ]
  },
  {
   "cell_type": "code",
   "execution_count": null,
   "metadata": {},
   "outputs": [],
   "source": []
  }
 ],
 "metadata": {
  "kernelspec": {
   "display_name": "Python 3 (ipykernel)",
   "language": "python",
   "name": "python3"
  },
  "language_info": {
   "codemirror_mode": {
    "name": "ipython",
    "version": 3
   },
   "file_extension": ".py",
   "mimetype": "text/x-python",
   "name": "python",
   "nbconvert_exporter": "python",
   "pygments_lexer": "ipython3",
   "version": "3.9.19"
  }
 },
 "nbformat": 4,
 "nbformat_minor": 4
}
